{
 "cells": [
  {
   "cell_type": "code",
   "execution_count": 1,
   "metadata": {},
   "outputs": [],
   "source": [
    "#imports\n",
    "import pandas as pd\n",
    "import numpy as np\n",
    "import matplotlib.pyplot as plt\n",
    "import seaborn as sns"
   ]
  },
  {
   "cell_type": "markdown",
   "metadata": {},
   "source": [
    "# Checkpoint 1: Data Cleaning 1\n",
    "\n",
    "The encoding used is \"palmos\" that completely eliminated the problem of special characters."
   ]
  },
  {
   "cell_type": "code",
   "execution_count": 2,
   "metadata": {},
   "outputs": [],
   "source": [
    "#Read companies and rounds2 Data\n",
    "companies = pd.read_csv('companies.csv',encoding ='palmos')\n",
    "rounds2 = pd.read_csv('rounds2.csv',encoding='palmos')"
   ]
  },
  {
   "cell_type": "code",
   "execution_count": 3,
   "metadata": {},
   "outputs": [
    {
     "data": {
      "text/html": [
       "<div>\n",
       "<style scoped>\n",
       "    .dataframe tbody tr th:only-of-type {\n",
       "        vertical-align: middle;\n",
       "    }\n",
       "\n",
       "    .dataframe tbody tr th {\n",
       "        vertical-align: top;\n",
       "    }\n",
       "\n",
       "    .dataframe thead th {\n",
       "        text-align: right;\n",
       "    }\n",
       "</style>\n",
       "<table border=\"1\" class=\"dataframe\">\n",
       "  <thead>\n",
       "    <tr style=\"text-align: right;\">\n",
       "      <th></th>\n",
       "      <th>permalink</th>\n",
       "      <th>name</th>\n",
       "      <th>homepage_url</th>\n",
       "      <th>category_list</th>\n",
       "      <th>status</th>\n",
       "      <th>country_code</th>\n",
       "      <th>state_code</th>\n",
       "      <th>region</th>\n",
       "      <th>city</th>\n",
       "      <th>founded_at</th>\n",
       "    </tr>\n",
       "  </thead>\n",
       "  <tbody>\n",
       "    <tr>\n",
       "      <th>0</th>\n",
       "      <td>/Organization/-Fame</td>\n",
       "      <td>#fame</td>\n",
       "      <td>http://livfame.com</td>\n",
       "      <td>Media</td>\n",
       "      <td>operating</td>\n",
       "      <td>IND</td>\n",
       "      <td>16</td>\n",
       "      <td>Mumbai</td>\n",
       "      <td>Mumbai</td>\n",
       "      <td>NaN</td>\n",
       "    </tr>\n",
       "    <tr>\n",
       "      <th>1</th>\n",
       "      <td>/Organization/-Qounter</td>\n",
       "      <td>:Qounter</td>\n",
       "      <td>http://www.qounter.com</td>\n",
       "      <td>Application Platforms|Real Time|Social Network...</td>\n",
       "      <td>operating</td>\n",
       "      <td>USA</td>\n",
       "      <td>DE</td>\n",
       "      <td>DE - Other</td>\n",
       "      <td>Delaware City</td>\n",
       "      <td>04-09-2014</td>\n",
       "    </tr>\n",
       "    <tr>\n",
       "      <th>2</th>\n",
       "      <td>/Organization/-The-One-Of-Them-Inc-</td>\n",
       "      <td>(THE) ONE of THEM,Inc.</td>\n",
       "      <td>http://oneofthem.jp</td>\n",
       "      <td>Apps|Games|Mobile</td>\n",
       "      <td>operating</td>\n",
       "      <td>NaN</td>\n",
       "      <td>NaN</td>\n",
       "      <td>NaN</td>\n",
       "      <td>NaN</td>\n",
       "      <td>NaN</td>\n",
       "    </tr>\n",
       "    <tr>\n",
       "      <th>3</th>\n",
       "      <td>/Organization/0-6-Com</td>\n",
       "      <td>0-6.com</td>\n",
       "      <td>http://www.0-6.com</td>\n",
       "      <td>Curated Web</td>\n",
       "      <td>operating</td>\n",
       "      <td>CHN</td>\n",
       "      <td>22</td>\n",
       "      <td>Beijing</td>\n",
       "      <td>Beijing</td>\n",
       "      <td>01-01-2007</td>\n",
       "    </tr>\n",
       "    <tr>\n",
       "      <th>4</th>\n",
       "      <td>/Organization/004-Technologies</td>\n",
       "      <td>004 Technologies</td>\n",
       "      <td>http://004gmbh.de/en/004-interact</td>\n",
       "      <td>Software</td>\n",
       "      <td>operating</td>\n",
       "      <td>USA</td>\n",
       "      <td>IL</td>\n",
       "      <td>Springfield, Illinois</td>\n",
       "      <td>Champaign</td>\n",
       "      <td>01-01-2010</td>\n",
       "    </tr>\n",
       "  </tbody>\n",
       "</table>\n",
       "</div>"
      ],
      "text/plain": [
       "                             permalink                    name  \\\n",
       "0                  /Organization/-Fame                   #fame   \n",
       "1               /Organization/-Qounter                :Qounter   \n",
       "2  /Organization/-The-One-Of-Them-Inc-  (THE) ONE of THEM,Inc.   \n",
       "3                /Organization/0-6-Com                 0-6.com   \n",
       "4       /Organization/004-Technologies        004 Technologies   \n",
       "\n",
       "                        homepage_url  \\\n",
       "0                 http://livfame.com   \n",
       "1             http://www.qounter.com   \n",
       "2                http://oneofthem.jp   \n",
       "3                 http://www.0-6.com   \n",
       "4  http://004gmbh.de/en/004-interact   \n",
       "\n",
       "                                       category_list     status country_code  \\\n",
       "0                                              Media  operating          IND   \n",
       "1  Application Platforms|Real Time|Social Network...  operating          USA   \n",
       "2                                  Apps|Games|Mobile  operating          NaN   \n",
       "3                                        Curated Web  operating          CHN   \n",
       "4                                           Software  operating          USA   \n",
       "\n",
       "  state_code                 region           city  founded_at  \n",
       "0         16                 Mumbai         Mumbai         NaN  \n",
       "1         DE             DE - Other  Delaware City  04-09-2014  \n",
       "2        NaN                    NaN            NaN         NaN  \n",
       "3         22                Beijing        Beijing  01-01-2007  \n",
       "4         IL  Springfield, Illinois      Champaign  01-01-2010  "
      ]
     },
     "execution_count": 3,
     "metadata": {},
     "output_type": "execute_result"
    }
   ],
   "source": [
    "#Taking a glimpse of the dataframes\n",
    "companies.head()"
   ]
  },
  {
   "cell_type": "code",
   "execution_count": 4,
   "metadata": {},
   "outputs": [
    {
     "data": {
      "text/html": [
       "<div>\n",
       "<style scoped>\n",
       "    .dataframe tbody tr th:only-of-type {\n",
       "        vertical-align: middle;\n",
       "    }\n",
       "\n",
       "    .dataframe tbody tr th {\n",
       "        vertical-align: top;\n",
       "    }\n",
       "\n",
       "    .dataframe thead th {\n",
       "        text-align: right;\n",
       "    }\n",
       "</style>\n",
       "<table border=\"1\" class=\"dataframe\">\n",
       "  <thead>\n",
       "    <tr style=\"text-align: right;\">\n",
       "      <th></th>\n",
       "      <th>company_permalink</th>\n",
       "      <th>funding_round_permalink</th>\n",
       "      <th>funding_round_type</th>\n",
       "      <th>funding_round_code</th>\n",
       "      <th>funded_at</th>\n",
       "      <th>raised_amount_usd</th>\n",
       "    </tr>\n",
       "  </thead>\n",
       "  <tbody>\n",
       "    <tr>\n",
       "      <th>0</th>\n",
       "      <td>/organization/-fame</td>\n",
       "      <td>/funding-round/9a01d05418af9f794eebff7ace91f638</td>\n",
       "      <td>venture</td>\n",
       "      <td>B</td>\n",
       "      <td>05-01-2015</td>\n",
       "      <td>10000000.0</td>\n",
       "    </tr>\n",
       "    <tr>\n",
       "      <th>1</th>\n",
       "      <td>/ORGANIZATION/-QOUNTER</td>\n",
       "      <td>/funding-round/22dacff496eb7acb2b901dec1dfe5633</td>\n",
       "      <td>venture</td>\n",
       "      <td>A</td>\n",
       "      <td>14-10-2014</td>\n",
       "      <td>NaN</td>\n",
       "    </tr>\n",
       "    <tr>\n",
       "      <th>2</th>\n",
       "      <td>/organization/-qounter</td>\n",
       "      <td>/funding-round/b44fbb94153f6cdef13083530bb48030</td>\n",
       "      <td>seed</td>\n",
       "      <td>NaN</td>\n",
       "      <td>01-03-2014</td>\n",
       "      <td>700000.0</td>\n",
       "    </tr>\n",
       "    <tr>\n",
       "      <th>3</th>\n",
       "      <td>/ORGANIZATION/-THE-ONE-OF-THEM-INC-</td>\n",
       "      <td>/funding-round/650b8f704416801069bb178a1418776b</td>\n",
       "      <td>venture</td>\n",
       "      <td>B</td>\n",
       "      <td>30-01-2014</td>\n",
       "      <td>3406878.0</td>\n",
       "    </tr>\n",
       "    <tr>\n",
       "      <th>4</th>\n",
       "      <td>/organization/0-6-com</td>\n",
       "      <td>/funding-round/5727accaeaa57461bd22a9bdd945382d</td>\n",
       "      <td>venture</td>\n",
       "      <td>A</td>\n",
       "      <td>19-03-2008</td>\n",
       "      <td>2000000.0</td>\n",
       "    </tr>\n",
       "  </tbody>\n",
       "</table>\n",
       "</div>"
      ],
      "text/plain": [
       "                     company_permalink  \\\n",
       "0                  /organization/-fame   \n",
       "1               /ORGANIZATION/-QOUNTER   \n",
       "2               /organization/-qounter   \n",
       "3  /ORGANIZATION/-THE-ONE-OF-THEM-INC-   \n",
       "4                /organization/0-6-com   \n",
       "\n",
       "                           funding_round_permalink funding_round_type  \\\n",
       "0  /funding-round/9a01d05418af9f794eebff7ace91f638            venture   \n",
       "1  /funding-round/22dacff496eb7acb2b901dec1dfe5633            venture   \n",
       "2  /funding-round/b44fbb94153f6cdef13083530bb48030               seed   \n",
       "3  /funding-round/650b8f704416801069bb178a1418776b            venture   \n",
       "4  /funding-round/5727accaeaa57461bd22a9bdd945382d            venture   \n",
       "\n",
       "  funding_round_code   funded_at  raised_amount_usd  \n",
       "0                  B  05-01-2015         10000000.0  \n",
       "1                  A  14-10-2014                NaN  \n",
       "2                NaN  01-03-2014           700000.0  \n",
       "3                  B  30-01-2014          3406878.0  \n",
       "4                  A  19-03-2008          2000000.0  "
      ]
     },
     "execution_count": 4,
     "metadata": {},
     "output_type": "execute_result"
    }
   ],
   "source": [
    "rounds2.head()"
   ]
  },
  {
   "cell_type": "code",
   "execution_count": 5,
   "metadata": {},
   "outputs": [
    {
     "name": "stdout",
     "output_type": "stream",
     "text": [
      "<class 'pandas.core.frame.DataFrame'>\n",
      "RangeIndex: 66368 entries, 0 to 66367\n",
      "Data columns (total 10 columns):\n",
      " #   Column         Non-Null Count  Dtype \n",
      "---  ------         --------------  ----- \n",
      " 0   permalink      66368 non-null  object\n",
      " 1   name           66367 non-null  object\n",
      " 2   homepage_url   61310 non-null  object\n",
      " 3   category_list  63220 non-null  object\n",
      " 4   status         66368 non-null  object\n",
      " 5   country_code   59410 non-null  object\n",
      " 6   state_code     57821 non-null  object\n",
      " 7   region         58338 non-null  object\n",
      " 8   city           58340 non-null  object\n",
      " 9   founded_at     51147 non-null  object\n",
      "dtypes: object(10)\n",
      "memory usage: 5.1+ MB\n"
     ]
    }
   ],
   "source": [
    "#Making observation on the column datatypes and null-count in both the data frames\n",
    "companies.info()"
   ]
  },
  {
   "cell_type": "code",
   "execution_count": 6,
   "metadata": {},
   "outputs": [
    {
     "name": "stdout",
     "output_type": "stream",
     "text": [
      "<class 'pandas.core.frame.DataFrame'>\n",
      "RangeIndex: 114949 entries, 0 to 114948\n",
      "Data columns (total 6 columns):\n",
      " #   Column                   Non-Null Count   Dtype  \n",
      "---  ------                   --------------   -----  \n",
      " 0   company_permalink        114949 non-null  object \n",
      " 1   funding_round_permalink  114949 non-null  object \n",
      " 2   funding_round_type       114949 non-null  object \n",
      " 3   funding_round_code       31140 non-null   object \n",
      " 4   funded_at                114949 non-null  object \n",
      " 5   raised_amount_usd        94959 non-null   float64\n",
      "dtypes: float64(1), object(5)\n",
      "memory usage: 5.3+ MB\n"
     ]
    }
   ],
   "source": [
    "rounds2.info()"
   ]
  },
  {
   "cell_type": "markdown",
   "metadata": {},
   "source": [
    "### Table-1.1\n",
    "\n",
    "1. How many unique companies are present in rounds2?\n",
    "2. How many unique companies are present in the companies file?\n",
    "3. In the companies data frame, which column can be used as the  unique key for each company? Write the name of the column.\n",
    "4. Are there any companies in the rounds2 file which are not  present in companies ? Answer Y/N.\n",
    "5. Merge the two data frames so that all  variables (columns)  in the companies frame are added to the rounds2 data frame. Name the merged frame master_frame. How many observations are present in master_frame ?"
   ]
  },
  {
   "cell_type": "code",
   "execution_count": 7,
   "metadata": {},
   "outputs": [],
   "source": [
    "#Ensuring that the permalinks in both the dataframes are in lowercases to get the right unique counts\n",
    "companies['permalink'] = companies['permalink'].apply(lambda x: str(x).lower())\n",
    "rounds2['company_permalink']= rounds2['company_permalink'].apply(lambda x: str(x).lower())"
   ]
  },
  {
   "cell_type": "code",
   "execution_count": 8,
   "metadata": {},
   "outputs": [
    {
     "data": {
      "text/plain": [
       "66368"
      ]
     },
     "execution_count": 8,
     "metadata": {},
     "output_type": "execute_result"
    }
   ],
   "source": [
    "companies['permalink'].nunique()"
   ]
  },
  {
   "cell_type": "code",
   "execution_count": 9,
   "metadata": {},
   "outputs": [
    {
     "data": {
      "text/plain": [
       "66368"
      ]
     },
     "execution_count": 9,
     "metadata": {},
     "output_type": "execute_result"
    }
   ],
   "source": [
    "rounds2['company_permalink'].nunique()"
   ]
  },
  {
   "cell_type": "code",
   "execution_count": 10,
   "metadata": {},
   "outputs": [
    {
     "name": "stdout",
     "output_type": "stream",
     "text": [
      "Number of rows from rounds2 where company_permalink is found in companies dataframe are: 114949 out of 114949\n",
      "Number of rows from companies where permalink is found in rounds2 dataframe are: 66368 out of 66368\n"
     ]
    }
   ],
   "source": [
    "#Checking for entries in rounds 2 which are not present in comapanies and vice versa\n",
    "print('Number of rows from rounds2 where company_permalink is found in companies dataframe are: '\n",
    "    +str(rounds2['company_permalink'].isin(companies['permalink']).astype(int).sum())+ ' out of '\n",
    "      +str(rounds2['company_permalink'].count()))\n",
    "print('Number of rows from companies where permalink is found in rounds2 dataframe are: '\n",
    "     +str(companies['permalink'].isin(rounds2['company_permalink']).astype(int).sum())+ ' out of '\n",
    "      +str(companies['permalink'].count()))"
   ]
  },
  {
   "cell_type": "code",
   "execution_count": 11,
   "metadata": {},
   "outputs": [],
   "source": [
    "master_frame = pd.merge(companies,rounds2,how ='inner', left_on='permalink',right_on='company_permalink')"
   ]
  },
  {
   "cell_type": "code",
   "execution_count": 12,
   "metadata": {},
   "outputs": [
    {
     "data": {
      "text/html": [
       "<div>\n",
       "<style scoped>\n",
       "    .dataframe tbody tr th:only-of-type {\n",
       "        vertical-align: middle;\n",
       "    }\n",
       "\n",
       "    .dataframe tbody tr th {\n",
       "        vertical-align: top;\n",
       "    }\n",
       "\n",
       "    .dataframe thead th {\n",
       "        text-align: right;\n",
       "    }\n",
       "</style>\n",
       "<table border=\"1\" class=\"dataframe\">\n",
       "  <thead>\n",
       "    <tr style=\"text-align: right;\">\n",
       "      <th></th>\n",
       "      <th>permalink</th>\n",
       "      <th>name</th>\n",
       "      <th>homepage_url</th>\n",
       "      <th>category_list</th>\n",
       "      <th>status</th>\n",
       "      <th>country_code</th>\n",
       "      <th>state_code</th>\n",
       "      <th>region</th>\n",
       "      <th>city</th>\n",
       "      <th>founded_at</th>\n",
       "      <th>company_permalink</th>\n",
       "      <th>funding_round_permalink</th>\n",
       "      <th>funding_round_type</th>\n",
       "      <th>funding_round_code</th>\n",
       "      <th>funded_at</th>\n",
       "      <th>raised_amount_usd</th>\n",
       "    </tr>\n",
       "  </thead>\n",
       "  <tbody>\n",
       "    <tr>\n",
       "      <th>0</th>\n",
       "      <td>/organization/-fame</td>\n",
       "      <td>#fame</td>\n",
       "      <td>http://livfame.com</td>\n",
       "      <td>Media</td>\n",
       "      <td>operating</td>\n",
       "      <td>IND</td>\n",
       "      <td>16</td>\n",
       "      <td>Mumbai</td>\n",
       "      <td>Mumbai</td>\n",
       "      <td>NaN</td>\n",
       "      <td>/organization/-fame</td>\n",
       "      <td>/funding-round/9a01d05418af9f794eebff7ace91f638</td>\n",
       "      <td>venture</td>\n",
       "      <td>B</td>\n",
       "      <td>05-01-2015</td>\n",
       "      <td>10000000.0</td>\n",
       "    </tr>\n",
       "    <tr>\n",
       "      <th>1</th>\n",
       "      <td>/organization/-qounter</td>\n",
       "      <td>:Qounter</td>\n",
       "      <td>http://www.qounter.com</td>\n",
       "      <td>Application Platforms|Real Time|Social Network...</td>\n",
       "      <td>operating</td>\n",
       "      <td>USA</td>\n",
       "      <td>DE</td>\n",
       "      <td>DE - Other</td>\n",
       "      <td>Delaware City</td>\n",
       "      <td>04-09-2014</td>\n",
       "      <td>/organization/-qounter</td>\n",
       "      <td>/funding-round/22dacff496eb7acb2b901dec1dfe5633</td>\n",
       "      <td>venture</td>\n",
       "      <td>A</td>\n",
       "      <td>14-10-2014</td>\n",
       "      <td>NaN</td>\n",
       "    </tr>\n",
       "    <tr>\n",
       "      <th>2</th>\n",
       "      <td>/organization/-qounter</td>\n",
       "      <td>:Qounter</td>\n",
       "      <td>http://www.qounter.com</td>\n",
       "      <td>Application Platforms|Real Time|Social Network...</td>\n",
       "      <td>operating</td>\n",
       "      <td>USA</td>\n",
       "      <td>DE</td>\n",
       "      <td>DE - Other</td>\n",
       "      <td>Delaware City</td>\n",
       "      <td>04-09-2014</td>\n",
       "      <td>/organization/-qounter</td>\n",
       "      <td>/funding-round/b44fbb94153f6cdef13083530bb48030</td>\n",
       "      <td>seed</td>\n",
       "      <td>NaN</td>\n",
       "      <td>01-03-2014</td>\n",
       "      <td>700000.0</td>\n",
       "    </tr>\n",
       "    <tr>\n",
       "      <th>3</th>\n",
       "      <td>/organization/-the-one-of-them-inc-</td>\n",
       "      <td>(THE) ONE of THEM,Inc.</td>\n",
       "      <td>http://oneofthem.jp</td>\n",
       "      <td>Apps|Games|Mobile</td>\n",
       "      <td>operating</td>\n",
       "      <td>NaN</td>\n",
       "      <td>NaN</td>\n",
       "      <td>NaN</td>\n",
       "      <td>NaN</td>\n",
       "      <td>NaN</td>\n",
       "      <td>/organization/-the-one-of-them-inc-</td>\n",
       "      <td>/funding-round/650b8f704416801069bb178a1418776b</td>\n",
       "      <td>venture</td>\n",
       "      <td>B</td>\n",
       "      <td>30-01-2014</td>\n",
       "      <td>3406878.0</td>\n",
       "    </tr>\n",
       "    <tr>\n",
       "      <th>4</th>\n",
       "      <td>/organization/0-6-com</td>\n",
       "      <td>0-6.com</td>\n",
       "      <td>http://www.0-6.com</td>\n",
       "      <td>Curated Web</td>\n",
       "      <td>operating</td>\n",
       "      <td>CHN</td>\n",
       "      <td>22</td>\n",
       "      <td>Beijing</td>\n",
       "      <td>Beijing</td>\n",
       "      <td>01-01-2007</td>\n",
       "      <td>/organization/0-6-com</td>\n",
       "      <td>/funding-round/5727accaeaa57461bd22a9bdd945382d</td>\n",
       "      <td>venture</td>\n",
       "      <td>A</td>\n",
       "      <td>19-03-2008</td>\n",
       "      <td>2000000.0</td>\n",
       "    </tr>\n",
       "  </tbody>\n",
       "</table>\n",
       "</div>"
      ],
      "text/plain": [
       "                             permalink                    name  \\\n",
       "0                  /organization/-fame                   #fame   \n",
       "1               /organization/-qounter                :Qounter   \n",
       "2               /organization/-qounter                :Qounter   \n",
       "3  /organization/-the-one-of-them-inc-  (THE) ONE of THEM,Inc.   \n",
       "4                /organization/0-6-com                 0-6.com   \n",
       "\n",
       "             homepage_url                                      category_list  \\\n",
       "0      http://livfame.com                                              Media   \n",
       "1  http://www.qounter.com  Application Platforms|Real Time|Social Network...   \n",
       "2  http://www.qounter.com  Application Platforms|Real Time|Social Network...   \n",
       "3     http://oneofthem.jp                                  Apps|Games|Mobile   \n",
       "4      http://www.0-6.com                                        Curated Web   \n",
       "\n",
       "      status country_code state_code      region           city  founded_at  \\\n",
       "0  operating          IND         16      Mumbai         Mumbai         NaN   \n",
       "1  operating          USA         DE  DE - Other  Delaware City  04-09-2014   \n",
       "2  operating          USA         DE  DE - Other  Delaware City  04-09-2014   \n",
       "3  operating          NaN        NaN         NaN            NaN         NaN   \n",
       "4  operating          CHN         22     Beijing        Beijing  01-01-2007   \n",
       "\n",
       "                     company_permalink  \\\n",
       "0                  /organization/-fame   \n",
       "1               /organization/-qounter   \n",
       "2               /organization/-qounter   \n",
       "3  /organization/-the-one-of-them-inc-   \n",
       "4                /organization/0-6-com   \n",
       "\n",
       "                           funding_round_permalink funding_round_type  \\\n",
       "0  /funding-round/9a01d05418af9f794eebff7ace91f638            venture   \n",
       "1  /funding-round/22dacff496eb7acb2b901dec1dfe5633            venture   \n",
       "2  /funding-round/b44fbb94153f6cdef13083530bb48030               seed   \n",
       "3  /funding-round/650b8f704416801069bb178a1418776b            venture   \n",
       "4  /funding-round/5727accaeaa57461bd22a9bdd945382d            venture   \n",
       "\n",
       "  funding_round_code   funded_at  raised_amount_usd  \n",
       "0                  B  05-01-2015         10000000.0  \n",
       "1                  A  14-10-2014                NaN  \n",
       "2                NaN  01-03-2014           700000.0  \n",
       "3                  B  30-01-2014          3406878.0  \n",
       "4                  A  19-03-2008          2000000.0  "
      ]
     },
     "execution_count": 12,
     "metadata": {},
     "output_type": "execute_result"
    }
   ],
   "source": [
    "#Taking a glimpse of the master_frame\n",
    "master_frame.head()"
   ]
  },
  {
   "cell_type": "code",
   "execution_count": 13,
   "metadata": {},
   "outputs": [
    {
     "name": "stdout",
     "output_type": "stream",
     "text": [
      "<class 'pandas.core.frame.DataFrame'>\n",
      "Int64Index: 114949 entries, 0 to 114948\n",
      "Data columns (total 16 columns):\n",
      " #   Column                   Non-Null Count   Dtype  \n",
      "---  ------                   --------------   -----  \n",
      " 0   permalink                114949 non-null  object \n",
      " 1   name                     114948 non-null  object \n",
      " 2   homepage_url             108815 non-null  object \n",
      " 3   category_list            111539 non-null  object \n",
      " 4   status                   114949 non-null  object \n",
      " 5   country_code             106271 non-null  object \n",
      " 6   state_code               104003 non-null  object \n",
      " 7   region                   104782 non-null  object \n",
      " 8   city                     104785 non-null  object \n",
      " 9   founded_at               94428 non-null   object \n",
      " 10  company_permalink        114949 non-null  object \n",
      " 11  funding_round_permalink  114949 non-null  object \n",
      " 12  funding_round_type       114949 non-null  object \n",
      " 13  funding_round_code       31140 non-null   object \n",
      " 14  funded_at                114949 non-null  object \n",
      " 15  raised_amount_usd        94959 non-null   float64\n",
      "dtypes: float64(1), object(15)\n",
      "memory usage: 14.9+ MB\n"
     ]
    }
   ],
   "source": [
    "#Making an observation on the column types and null count in the master_frame\n",
    "master_frame.info()"
   ]
  },
  {
   "cell_type": "code",
   "execution_count": 14,
   "metadata": {},
   "outputs": [],
   "source": [
    "#dropping repeated column company_permalink which is the same as permalink\n",
    "master_frame = master_frame.drop('company_permalink', axis = 1)"
   ]
  },
  {
   "cell_type": "code",
   "execution_count": 15,
   "metadata": {},
   "outputs": [
    {
     "data": {
      "text/plain": [
       "funding_round_code         72.91\n",
       "founded_at                 17.85\n",
       "raised_amount_usd          17.39\n",
       "state_code                  9.52\n",
       "city                        8.84\n",
       "region                      8.84\n",
       "country_code                7.55\n",
       "homepage_url                5.34\n",
       "category_list               2.97\n",
       "funded_at                   0.00\n",
       "funding_round_type          0.00\n",
       "funding_round_permalink     0.00\n",
       "status                      0.00\n",
       "name                        0.00\n",
       "permalink                   0.00\n",
       "dtype: float64"
      ]
     },
     "execution_count": 15,
     "metadata": {},
     "output_type": "execute_result"
    }
   ],
   "source": [
    "#looking at null_count in each column in percentage\n",
    "(round(100*master_frame.isnull().sum()/len(master_frame),2)).sort_values(ascending=False)"
   ]
  },
  {
   "cell_type": "code",
   "execution_count": 16,
   "metadata": {},
   "outputs": [],
   "source": [
    "#Since the funding_round_code null values>50% we can get rid of that column\n",
    "#Also columns like state_code, city, region, founded_at and homepage_url seem not required for current analysis\n",
    "#Hence these can be removed safely\n",
    "master_frame = master_frame.drop(['funding_round_code','founded_at','state_code','city','region','homepage_url'], axis = 1)"
   ]
  },
  {
   "cell_type": "code",
   "execution_count": 17,
   "metadata": {},
   "outputs": [
    {
     "data": {
      "text/plain": [
       "raised_amount_usd          17.39\n",
       "country_code                7.55\n",
       "category_list               2.97\n",
       "funded_at                   0.00\n",
       "funding_round_type          0.00\n",
       "funding_round_permalink     0.00\n",
       "status                      0.00\n",
       "name                        0.00\n",
       "permalink                   0.00\n",
       "dtype: float64"
      ]
     },
     "execution_count": 17,
     "metadata": {},
     "output_type": "execute_result"
    }
   ],
   "source": [
    "#looking at null_count in each column in percentage\n",
    "(round(100*master_frame.isnull().sum()/len(master_frame),2)).sort_values(ascending=False)"
   ]
  },
  {
   "cell_type": "code",
   "execution_count": 18,
   "metadata": {},
   "outputs": [
    {
     "data": {
      "text/plain": [
       "count         94959.0000\n",
       "mean       10426869.3345\n",
       "std       114821247.9849\n",
       "min               0.0000\n",
       "25%          322500.0000\n",
       "50%         1680511.0000\n",
       "75%         7000000.0000\n",
       "max     21271935000.0000\n",
       "Name: raised_amount_usd, dtype: float64"
      ]
     },
     "execution_count": 18,
     "metadata": {},
     "output_type": "execute_result"
    }
   ],
   "source": [
    "#Let's look at the raised_amount_usd column for a possible impute\n",
    "pd.options.display.float_format = '{:.4f}'.format\n",
    "master_frame['raised_amount_usd'].describe()"
   ]
  },
  {
   "cell_type": "code",
   "execution_count": 19,
   "metadata": {},
   "outputs": [],
   "source": [
    "#Since we see that the mean and median vary by a factor of 10 (in millions) it is not safe to impute the values\n",
    "#Instead let's get rid of the rows with null entries in raised_amount_usd\n",
    "master_frame = master_frame[~master_frame['raised_amount_usd'].isnull()]"
   ]
  },
  {
   "cell_type": "code",
   "execution_count": 20,
   "metadata": {},
   "outputs": [
    {
     "data": {
      "text/plain": [
       "country_code              6.1600\n",
       "category_list             1.1000\n",
       "raised_amount_usd         0.0000\n",
       "funded_at                 0.0000\n",
       "funding_round_type        0.0000\n",
       "funding_round_permalink   0.0000\n",
       "status                    0.0000\n",
       "name                      0.0000\n",
       "permalink                 0.0000\n",
       "dtype: float64"
      ]
     },
     "execution_count": 20,
     "metadata": {},
     "output_type": "execute_result"
    }
   ],
   "source": [
    "#looking at null_count in each column in percentage\n",
    "(round(100*master_frame.isnull().sum()/len(master_frame),2)).sort_values(ascending=False)"
   ]
  },
  {
   "cell_type": "code",
   "execution_count": 21,
   "metadata": {},
   "outputs": [
    {
     "data": {
      "text/plain": [
       "USA   65.3429\n",
       "GBR    5.2854\n",
       "CAN    2.7549\n",
       "CHN    2.0293\n",
       "IND    1.7365\n",
       "        ...  \n",
       "MKD    0.0011\n",
       "UZB    0.0011\n",
       "GRD    0.0011\n",
       "OMN    0.0011\n",
       "SEN    0.0011\n",
       "Name: country_code, Length: 134, dtype: float64"
      ]
     },
     "execution_count": 21,
     "metadata": {},
     "output_type": "execute_result"
    }
   ],
   "source": [
    "#Let's analyze the county_code column \n",
    "100*(master_frame['country_code'].value_counts()/len(master_frame))"
   ]
  },
  {
   "cell_type": "code",
   "execution_count": 22,
   "metadata": {},
   "outputs": [],
   "source": [
    "#Either we can impute the country_code values with 'USA' as it is present in 65% of the entries\n",
    "#Or get rid of the rows where the entries in country_code column is null\n",
    "#Since it is only 6.16%(<10%) of the rows, getting rid of the rows is a fine choice to proceed with\n",
    "master_frame = master_frame[~master_frame['country_code'].isnull()]"
   ]
  },
  {
   "cell_type": "code",
   "execution_count": 23,
   "metadata": {},
   "outputs": [
    {
     "data": {
      "text/plain": [
       "category_list             0.6500\n",
       "raised_amount_usd         0.0000\n",
       "funded_at                 0.0000\n",
       "funding_round_type        0.0000\n",
       "funding_round_permalink   0.0000\n",
       "country_code              0.0000\n",
       "status                    0.0000\n",
       "name                      0.0000\n",
       "permalink                 0.0000\n",
       "dtype: float64"
      ]
     },
     "execution_count": 23,
     "metadata": {},
     "output_type": "execute_result"
    }
   ],
   "source": [
    "#looking at null_count in each column in percentage\n",
    "(round(100*master_frame.isnull().sum()/len(master_frame),2)).sort_values(ascending=False)"
   ]
  },
  {
   "cell_type": "code",
   "execution_count": 24,
   "metadata": {},
   "outputs": [],
   "source": [
    "#Similarly getting rid of the null_count values in category_list is good option \n",
    "#As only 0.65%(<<10%) values are null\n",
    "master_frame = master_frame[~master_frame['category_list'].isnull()]"
   ]
  },
  {
   "cell_type": "markdown",
   "metadata": {},
   "source": [
    "#### Finally the data looks clean as is visible in the percentages below\n",
    "\n"
   ]
  },
  {
   "cell_type": "code",
   "execution_count": 25,
   "metadata": {},
   "outputs": [
    {
     "data": {
      "text/plain": [
       "raised_amount_usd         0.0000\n",
       "funded_at                 0.0000\n",
       "funding_round_type        0.0000\n",
       "funding_round_permalink   0.0000\n",
       "country_code              0.0000\n",
       "status                    0.0000\n",
       "category_list             0.0000\n",
       "name                      0.0000\n",
       "permalink                 0.0000\n",
       "dtype: float64"
      ]
     },
     "execution_count": 25,
     "metadata": {},
     "output_type": "execute_result"
    }
   ],
   "source": [
    "#looking at null_count in each column in percentage\n",
    "(round(100*master_frame.isnull().sum()/len(master_frame),2)).sort_values(ascending=False)"
   ]
  },
  {
   "cell_type": "code",
   "execution_count": 26,
   "metadata": {},
   "outputs": [
    {
     "name": "stdout",
     "output_type": "stream",
     "text": [
      "<class 'pandas.core.frame.DataFrame'>\n",
      "RangeIndex: 88529 entries, 0 to 88528\n",
      "Data columns (total 9 columns):\n",
      " #   Column                   Non-Null Count  Dtype  \n",
      "---  ------                   --------------  -----  \n",
      " 0   permalink                88529 non-null  object \n",
      " 1   name                     88528 non-null  object \n",
      " 2   category_list            88529 non-null  object \n",
      " 3   status                   88529 non-null  object \n",
      " 4   country_code             88529 non-null  object \n",
      " 5   funding_round_permalink  88529 non-null  object \n",
      " 6   funding_round_type       88529 non-null  object \n",
      " 7   funded_at                88529 non-null  object \n",
      " 8   raised_amount_usd        88529 non-null  float64\n",
      "dtypes: float64(1), object(8)\n",
      "memory usage: 6.1+ MB\n"
     ]
    }
   ],
   "source": [
    "master_frame.reset_index(inplace = True, drop =True)\n",
    "master_frame.info()"
   ]
  },
  {
   "cell_type": "code",
   "execution_count": 27,
   "metadata": {},
   "outputs": [
    {
     "name": "stdout",
     "output_type": "stream",
     "text": [
      "Percentage of data retained after cleaning = 77.01589400516751\n"
     ]
    }
   ],
   "source": [
    "#percentage of data retained after cleaning (Note initial length of the frame was 114949 as can be found above)\n",
    "print('Percentage of data retained after cleaning = '+str(100*(len(master_frame)/114949)))"
   ]
  },
  {
   "cell_type": "markdown",
   "metadata": {},
   "source": [
    "# Checkpoint 2: Funding Type Analysis\n",
    "\n",
    "### Table-2.1\n",
    "1. Average funding amount of venture type?\n",
    "2. Average funding amount of angel type?\n",
    "3. Average funding amount of seed type?\n",
    "4. Average funding amount of private equity type?\n",
    "5. Considering that Spark Funds wants to invest between 5 to 15 million USD per  investment round, which investment type is the most suitable for them?"
   ]
  },
  {
   "cell_type": "code",
   "execution_count": 28,
   "metadata": {},
   "outputs": [
    {
     "data": {
      "text/plain": [
       "venture                  47809\n",
       "seed                     21095\n",
       "debt_financing            6506\n",
       "angel                     4400\n",
       "grant                     1939\n",
       "private_equity            1820\n",
       "undisclosed               1345\n",
       "convertible_note          1320\n",
       "equity_crowdfunding       1128\n",
       "post_ipo_equity            598\n",
       "product_crowdfunding       330\n",
       "post_ipo_debt              151\n",
       "non_equity_assistance       60\n",
       "secondary_market            28\n",
       "Name: funding_round_type, dtype: int64"
      ]
     },
     "execution_count": 28,
     "metadata": {},
     "output_type": "execute_result"
    }
   ],
   "source": [
    "#Taking a look at the various funding round types and their number on investments\n",
    "master_frame['funding_round_type'].value_counts()"
   ]
  },
  {
   "cell_type": "code",
   "execution_count": 29,
   "metadata": {},
   "outputs": [],
   "source": [
    "#Filtering the type of funding to include only the type of interest ['venture','angel','seed','private_equity']\n",
    "master_frame = master_frame[master_frame['funding_round_type'].isin(['venture','angel','seed','private_equity'])]\n",
    "\n",
    "#For checkpoint 6 a copy of the master_frame with all the 4 funding_round_type has been stored\n",
    "funding_type_frame = master_frame.copy()"
   ]
  },
  {
   "cell_type": "code",
   "execution_count": 30,
   "metadata": {},
   "outputs": [
    {
     "data": {
      "text/plain": [
       "venture           47809\n",
       "seed              21095\n",
       "angel              4400\n",
       "private_equity     1820\n",
       "Name: funding_round_type, dtype: int64"
      ]
     },
     "execution_count": 30,
     "metadata": {},
     "output_type": "execute_result"
    }
   ],
   "source": [
    "master_frame['funding_round_type'].value_counts()"
   ]
  },
  {
   "cell_type": "code",
   "execution_count": 31,
   "metadata": {},
   "outputs": [
    {
     "data": {
      "image/png": "[encoded data removed]",
      "text/plain": [
       "<Figure size 432x288 with 1 Axes>"
      ]
     },
     "metadata": {
      "needs_background": "light"
     },
     "output_type": "display_data"
    }
   ],
   "source": [
    "#Boxplot of raised_amount_usd\n",
    "sns.boxplot(y='raised_amount_usd',data= master_frame)\n",
    "plt.yscale('log')\n",
    "plt.show()"
   ]
  },
  {
   "cell_type": "markdown",
   "metadata": {},
   "source": [
    "#### We note from the above plot that there are many outliers on the higher range of values in the data"
   ]
  },
  {
   "cell_type": "code",
   "execution_count": 32,
   "metadata": {},
   "outputs": [
    {
     "data": {
      "text/html": [
       "<div>\n",
       "<style scoped>\n",
       "    .dataframe tbody tr th:only-of-type {\n",
       "        vertical-align: middle;\n",
       "    }\n",
       "\n",
       "    .dataframe tbody tr th {\n",
       "        vertical-align: top;\n",
       "    }\n",
       "\n",
       "    .dataframe thead th {\n",
       "        text-align: right;\n",
       "    }\n",
       "</style>\n",
       "<table border=\"1\" class=\"dataframe\">\n",
       "  <thead>\n",
       "    <tr style=\"text-align: right;\">\n",
       "      <th></th>\n",
       "      <th>count</th>\n",
       "      <th>mean</th>\n",
       "      <th>std</th>\n",
       "      <th>min</th>\n",
       "      <th>25%</th>\n",
       "      <th>50%</th>\n",
       "      <th>75%</th>\n",
       "      <th>max</th>\n",
       "    </tr>\n",
       "    <tr>\n",
       "      <th>funding_round_type</th>\n",
       "      <th></th>\n",
       "      <th></th>\n",
       "      <th></th>\n",
       "      <th></th>\n",
       "      <th></th>\n",
       "      <th></th>\n",
       "      <th></th>\n",
       "      <th></th>\n",
       "    </tr>\n",
       "  </thead>\n",
       "  <tbody>\n",
       "    <tr>\n",
       "      <th>angel</th>\n",
       "      <td>4400.0000</td>\n",
       "      <td>971573.8911</td>\n",
       "      <td>7710904.3326</td>\n",
       "      <td>0.0000</td>\n",
       "      <td>152756.5000</td>\n",
       "      <td>414906.0000</td>\n",
       "      <td>1000000.0000</td>\n",
       "      <td>494511992.0000</td>\n",
       "    </tr>\n",
       "    <tr>\n",
       "      <th>private_equity</th>\n",
       "      <td>1820.0000</td>\n",
       "      <td>73938486.2753</td>\n",
       "      <td>201776467.3801</td>\n",
       "      <td>0.0000</td>\n",
       "      <td>5000000.0000</td>\n",
       "      <td>20000000.0000</td>\n",
       "      <td>75762572.0000</td>\n",
       "      <td>4745460219.0000</td>\n",
       "    </tr>\n",
       "    <tr>\n",
       "      <th>seed</th>\n",
       "      <td>21095.0000</td>\n",
       "      <td>747793.6825</td>\n",
       "      <td>2288317.6379</td>\n",
       "      <td>0.0000</td>\n",
       "      <td>68816.5000</td>\n",
       "      <td>300000.0000</td>\n",
       "      <td>1000000.0000</td>\n",
       "      <td>200000000.0000</td>\n",
       "    </tr>\n",
       "    <tr>\n",
       "      <th>venture</th>\n",
       "      <td>47809.0000</td>\n",
       "      <td>11724222.6902</td>\n",
       "      <td>88215713.6149</td>\n",
       "      <td>0.0000</td>\n",
       "      <td>1600000.0000</td>\n",
       "      <td>5000000.0000</td>\n",
       "      <td>12000000.0000</td>\n",
       "      <td>17600000000.0000</td>\n",
       "    </tr>\n",
       "  </tbody>\n",
       "</table>\n",
       "</div>"
      ],
      "text/plain": [
       "                        count          mean            std    min  \\\n",
       "funding_round_type                                                  \n",
       "angel               4400.0000   971573.8911   7710904.3326 0.0000   \n",
       "private_equity      1820.0000 73938486.2753 201776467.3801 0.0000   \n",
       "seed               21095.0000   747793.6825   2288317.6379 0.0000   \n",
       "venture            47809.0000 11724222.6902  88215713.6149 0.0000   \n",
       "\n",
       "                            25%           50%           75%              max  \n",
       "funding_round_type                                                            \n",
       "angel               152756.5000   414906.0000  1000000.0000   494511992.0000  \n",
       "private_equity     5000000.0000 20000000.0000 75762572.0000  4745460219.0000  \n",
       "seed                 68816.5000   300000.0000  1000000.0000   200000000.0000  \n",
       "venture            1600000.0000  5000000.0000 12000000.0000 17600000000.0000  "
      ]
     },
     "execution_count": 32,
     "metadata": {},
     "output_type": "execute_result"
    }
   ],
   "source": [
    "#For each of the funding_round_type an analysis of the raised_amount_usd is shown below\n",
    "master_frame.groupby(by='funding_round_type',as_index = True).describe()['raised_amount_usd']"
   ]
  },
  {
   "cell_type": "code",
   "execution_count": 33,
   "metadata": {},
   "outputs": [
    {
     "data": {
      "image/png": "[encoded data removed]",
      "text/plain": [
       "<Figure size 720x432 with 1 Axes>"
      ]
     },
     "metadata": {
      "needs_background": "light"
     },
     "output_type": "display_data"
    }
   ],
   "source": [
    "#To get better visual understanding of the above analysis of raised_amount_usd based on funding_round_type\n",
    "#Let's see the boxplot of the same\n",
    "plt.figure(figsize =[10,6])\n",
    "sns.boxplot(x='funding_round_type',y='raised_amount_usd',data=master_frame)\n",
    "plt.yscale('log')\n",
    "plt.show()"
   ]
  },
  {
   "cell_type": "markdown",
   "metadata": {},
   "source": [
    "#### From both the plots it is clear that the median values are much better representation of the data because of the large number of outliers and hence the vast difference between mean and median"
   ]
  },
  {
   "cell_type": "code",
   "execution_count": 34,
   "metadata": {},
   "outputs": [
    {
     "data": {
      "text/plain": [
       "funding_round_type\n",
       "angel              414906.0000\n",
       "private_equity   20000000.0000\n",
       "seed               300000.0000\n",
       "venture           5000000.0000\n",
       "Name: raised_amount_usd, dtype: float64"
      ]
     },
     "execution_count": 34,
     "metadata": {},
     "output_type": "execute_result"
    }
   ],
   "source": [
    "#Lets look at the median values based on the funding_round_type category again!\n",
    "master_frame.groupby(by='funding_round_type',as_index = True)['raised_amount_usd'].median()"
   ]
  },
  {
   "cell_type": "markdown",
   "metadata": {},
   "source": [
    "#### Hence it is clear that venture type is the funding type that is of interest as it falls in the range of 5-15 million USD"
   ]
  },
  {
   "cell_type": "code",
   "execution_count": 35,
   "metadata": {},
   "outputs": [],
   "source": [
    "#Filtering out the venture type of investment\n",
    "master_frame = master_frame[master_frame['funding_round_type']=='venture']"
   ]
  },
  {
   "cell_type": "code",
   "execution_count": 36,
   "metadata": {},
   "outputs": [
    {
     "name": "stdout",
     "output_type": "stream",
     "text": [
      "<class 'pandas.core.frame.DataFrame'>\n",
      "RangeIndex: 47809 entries, 0 to 47808\n",
      "Data columns (total 9 columns):\n",
      " #   Column                   Non-Null Count  Dtype  \n",
      "---  ------                   --------------  -----  \n",
      " 0   permalink                47809 non-null  object \n",
      " 1   name                     47809 non-null  object \n",
      " 2   category_list            47809 non-null  object \n",
      " 3   status                   47809 non-null  object \n",
      " 4   country_code             47809 non-null  object \n",
      " 5   funding_round_permalink  47809 non-null  object \n",
      " 6   funding_round_type       47809 non-null  object \n",
      " 7   funded_at                47809 non-null  object \n",
      " 8   raised_amount_usd        47809 non-null  float64\n",
      "dtypes: float64(1), object(8)\n",
      "memory usage: 3.3+ MB\n"
     ]
    }
   ],
   "source": [
    "master_frame.reset_index(inplace = True, drop=True)\n",
    "master_frame.info()"
   ]
  },
  {
   "cell_type": "markdown",
   "metadata": {},
   "source": [
    "# Checkpoint 3: Country Analysis\n",
    "\n",
    "### Table-3.1\n",
    "1. Top English speaking country?\n",
    "2. Second English speaking country?\n",
    "3. Third English speaking country?\n",
    "\n",
    "(Ensure to code results for the top 9 countries)"
   ]
  },
  {
   "cell_type": "code",
   "execution_count": 37,
   "metadata": {},
   "outputs": [
    {
     "data": {
      "text/html": [
       "<div>\n",
       "<style scoped>\n",
       "    .dataframe tbody tr th:only-of-type {\n",
       "        vertical-align: middle;\n",
       "    }\n",
       "\n",
       "    .dataframe tbody tr th {\n",
       "        vertical-align: top;\n",
       "    }\n",
       "\n",
       "    .dataframe thead th {\n",
       "        text-align: right;\n",
       "    }\n",
       "</style>\n",
       "<table border=\"1\" class=\"dataframe\">\n",
       "  <thead>\n",
       "    <tr style=\"text-align: right;\">\n",
       "      <th></th>\n",
       "      <th>country_code</th>\n",
       "      <th>raised_amount_usd</th>\n",
       "    </tr>\n",
       "  </thead>\n",
       "  <tbody>\n",
       "    <tr>\n",
       "      <th>0</th>\n",
       "      <td>USA</td>\n",
       "      <td>420068029342.0000</td>\n",
       "    </tr>\n",
       "    <tr>\n",
       "      <th>1</th>\n",
       "      <td>CHN</td>\n",
       "      <td>39338918773.0000</td>\n",
       "    </tr>\n",
       "    <tr>\n",
       "      <th>2</th>\n",
       "      <td>GBR</td>\n",
       "      <td>20072813004.0000</td>\n",
       "    </tr>\n",
       "    <tr>\n",
       "      <th>3</th>\n",
       "      <td>IND</td>\n",
       "      <td>14261508718.0000</td>\n",
       "    </tr>\n",
       "    <tr>\n",
       "      <th>4</th>\n",
       "      <td>CAN</td>\n",
       "      <td>9482217668.0000</td>\n",
       "    </tr>\n",
       "    <tr>\n",
       "      <th>5</th>\n",
       "      <td>FRA</td>\n",
       "      <td>7226851352.0000</td>\n",
       "    </tr>\n",
       "    <tr>\n",
       "      <th>6</th>\n",
       "      <td>ISR</td>\n",
       "      <td>6854350477.0000</td>\n",
       "    </tr>\n",
       "    <tr>\n",
       "      <th>7</th>\n",
       "      <td>DEU</td>\n",
       "      <td>6306921981.0000</td>\n",
       "    </tr>\n",
       "    <tr>\n",
       "      <th>8</th>\n",
       "      <td>JPN</td>\n",
       "      <td>3167647127.0000</td>\n",
       "    </tr>\n",
       "  </tbody>\n",
       "</table>\n",
       "</div>"
      ],
      "text/plain": [
       "  country_code  raised_amount_usd\n",
       "0          USA  420068029342.0000\n",
       "1          CHN   39338918773.0000\n",
       "2          GBR   20072813004.0000\n",
       "3          IND   14261508718.0000\n",
       "4          CAN    9482217668.0000\n",
       "5          FRA    7226851352.0000\n",
       "6          ISR    6854350477.0000\n",
       "7          DEU    6306921981.0000\n",
       "8          JPN    3167647127.0000"
      ]
     },
     "execution_count": 37,
     "metadata": {},
     "output_type": "execute_result"
    }
   ],
   "source": [
    "top9 = master_frame.groupby('country_code',as_index= False)['raised_amount_usd'].sum().sort_values(by = 'raised_amount_usd', ascending = False)\n",
    "top9 = top9.head(9)\n",
    "top9.reset_index(inplace = True, drop = True)\n",
    "top9"
   ]
  },
  {
   "cell_type": "markdown",
   "metadata": {},
   "source": [
    "#### Filtering out the top 3 English speaking countries 'USA', 'GBR' and 'IND'"
   ]
  },
  {
   "cell_type": "code",
   "execution_count": 38,
   "metadata": {},
   "outputs": [
    {
     "name": "stdout",
     "output_type": "stream",
     "text": [
      "<class 'pandas.core.frame.DataFrame'>\n",
      "RangeIndex: 38803 entries, 0 to 38802\n",
      "Data columns (total 9 columns):\n",
      " #   Column                   Non-Null Count  Dtype  \n",
      "---  ------                   --------------  -----  \n",
      " 0   permalink                38803 non-null  object \n",
      " 1   name                     38803 non-null  object \n",
      " 2   category_list            38803 non-null  object \n",
      " 3   status                   38803 non-null  object \n",
      " 4   country_code             38803 non-null  object \n",
      " 5   funding_round_permalink  38803 non-null  object \n",
      " 6   funding_round_type       38803 non-null  object \n",
      " 7   funded_at                38803 non-null  object \n",
      " 8   raised_amount_usd        38803 non-null  float64\n",
      "dtypes: float64(1), object(8)\n",
      "memory usage: 2.7+ MB\n"
     ]
    }
   ],
   "source": [
    "master_frame = master_frame[master_frame['country_code'].isin(['USA','GBR','IND'])]\n",
    "master_frame.reset_index(inplace=True, drop = True)\n",
    "master_frame.info()"
   ]
  },
  {
   "cell_type": "code",
   "execution_count": 39,
   "metadata": {},
   "outputs": [
    {
     "data": {
      "image/png": "[encoded data removed]",
      "text/plain": [
       "<Figure size 432x288 with 1 Axes>"
      ]
     },
     "metadata": {
      "needs_background": "light"
     },
     "output_type": "display_data"
    }
   ],
   "source": [
    "#Let's get a visual representation of the amount_raised_usd based on the countries before moving ahead\n",
    "sns.boxplot(y='raised_amount_usd',x='country_code',data=master_frame)\n",
    "plt.yscale('log')\n",
    "plt.show()"
   ]
  },
  {
   "cell_type": "markdown",
   "metadata": {},
   "source": [
    "# Checkpoint 4: Sector Analysis 1"
   ]
  },
  {
   "cell_type": "code",
   "execution_count": 40,
   "metadata": {},
   "outputs": [],
   "source": [
    "mapping = pd.read_csv('mapping.csv')"
   ]
  },
  {
   "cell_type": "code",
   "execution_count": 41,
   "metadata": {},
   "outputs": [
    {
     "name": "stdout",
     "output_type": "stream",
     "text": [
      "<class 'pandas.core.frame.DataFrame'>\n",
      "RangeIndex: 688 entries, 0 to 687\n",
      "Data columns (total 10 columns):\n",
      " #   Column                                   Non-Null Count  Dtype \n",
      "---  ------                                   --------------  ----- \n",
      " 0   category_list                            687 non-null    object\n",
      " 1   Automotive & Sports                      688 non-null    int64 \n",
      " 2   Blanks                                   688 non-null    int64 \n",
      " 3   Cleantech / Semiconductors               688 non-null    int64 \n",
      " 4   Entertainment                            688 non-null    int64 \n",
      " 5   Health                                   688 non-null    int64 \n",
      " 6   Manufacturing                            688 non-null    int64 \n",
      " 7   News, Search and Messaging               688 non-null    int64 \n",
      " 8   Others                                   688 non-null    int64 \n",
      " 9   Social, Finance, Analytics, Advertising  688 non-null    int64 \n",
      "dtypes: int64(9), object(1)\n",
      "memory usage: 53.9+ KB\n"
     ]
    }
   ],
   "source": [
    "#Observing data types and null value count in mapping dataframe\n",
    "mapping.info()"
   ]
  },
  {
   "cell_type": "code",
   "execution_count": 42,
   "metadata": {},
   "outputs": [
    {
     "data": {
      "text/html": [
       "<div>\n",
       "<style scoped>\n",
       "    .dataframe tbody tr th:only-of-type {\n",
       "        vertical-align: middle;\n",
       "    }\n",
       "\n",
       "    .dataframe tbody tr th {\n",
       "        vertical-align: top;\n",
       "    }\n",
       "\n",
       "    .dataframe thead th {\n",
       "        text-align: right;\n",
       "    }\n",
       "</style>\n",
       "<table border=\"1\" class=\"dataframe\">\n",
       "  <thead>\n",
       "    <tr style=\"text-align: right;\">\n",
       "      <th></th>\n",
       "      <th>category_list</th>\n",
       "      <th>Automotive &amp; Sports</th>\n",
       "      <th>Blanks</th>\n",
       "      <th>Cleantech / Semiconductors</th>\n",
       "      <th>Entertainment</th>\n",
       "      <th>Health</th>\n",
       "      <th>Manufacturing</th>\n",
       "      <th>News, Search and Messaging</th>\n",
       "      <th>Others</th>\n",
       "      <th>Social, Finance, Analytics, Advertising</th>\n",
       "    </tr>\n",
       "  </thead>\n",
       "  <tbody>\n",
       "    <tr>\n",
       "      <th>0</th>\n",
       "      <td>NaN</td>\n",
       "      <td>0</td>\n",
       "      <td>1</td>\n",
       "      <td>0</td>\n",
       "      <td>0</td>\n",
       "      <td>0</td>\n",
       "      <td>0</td>\n",
       "      <td>0</td>\n",
       "      <td>0</td>\n",
       "      <td>0</td>\n",
       "    </tr>\n",
       "    <tr>\n",
       "      <th>1</th>\n",
       "      <td>3D</td>\n",
       "      <td>0</td>\n",
       "      <td>0</td>\n",
       "      <td>0</td>\n",
       "      <td>0</td>\n",
       "      <td>0</td>\n",
       "      <td>1</td>\n",
       "      <td>0</td>\n",
       "      <td>0</td>\n",
       "      <td>0</td>\n",
       "    </tr>\n",
       "    <tr>\n",
       "      <th>2</th>\n",
       "      <td>3D Printing</td>\n",
       "      <td>0</td>\n",
       "      <td>0</td>\n",
       "      <td>0</td>\n",
       "      <td>0</td>\n",
       "      <td>0</td>\n",
       "      <td>1</td>\n",
       "      <td>0</td>\n",
       "      <td>0</td>\n",
       "      <td>0</td>\n",
       "    </tr>\n",
       "    <tr>\n",
       "      <th>3</th>\n",
       "      <td>3D Technology</td>\n",
       "      <td>0</td>\n",
       "      <td>0</td>\n",
       "      <td>0</td>\n",
       "      <td>0</td>\n",
       "      <td>0</td>\n",
       "      <td>1</td>\n",
       "      <td>0</td>\n",
       "      <td>0</td>\n",
       "      <td>0</td>\n",
       "    </tr>\n",
       "    <tr>\n",
       "      <th>4</th>\n",
       "      <td>Accounting</td>\n",
       "      <td>0</td>\n",
       "      <td>0</td>\n",
       "      <td>0</td>\n",
       "      <td>0</td>\n",
       "      <td>0</td>\n",
       "      <td>0</td>\n",
       "      <td>0</td>\n",
       "      <td>0</td>\n",
       "      <td>1</td>\n",
       "    </tr>\n",
       "  </tbody>\n",
       "</table>\n",
       "</div>"
      ],
      "text/plain": [
       "   category_list  Automotive & Sports  Blanks  Cleantech / Semiconductors  \\\n",
       "0            NaN                    0       1                           0   \n",
       "1             3D                    0       0                           0   \n",
       "2    3D Printing                    0       0                           0   \n",
       "3  3D Technology                    0       0                           0   \n",
       "4     Accounting                    0       0                           0   \n",
       "\n",
       "   Entertainment  Health  Manufacturing  News, Search and Messaging  Others  \\\n",
       "0              0       0              0                           0       0   \n",
       "1              0       0              1                           0       0   \n",
       "2              0       0              1                           0       0   \n",
       "3              0       0              1                           0       0   \n",
       "4              0       0              0                           0       0   \n",
       "\n",
       "   Social, Finance, Analytics, Advertising  \n",
       "0                                        0  \n",
       "1                                        0  \n",
       "2                                        0  \n",
       "3                                        0  \n",
       "4                                        1  "
      ]
     },
     "execution_count": 42,
     "metadata": {},
     "output_type": "execute_result"
    }
   ],
   "source": [
    "#Taking a glimpse of the mapping dataframe\n",
    "mapping.head()"
   ]
  },
  {
   "cell_type": "code",
   "execution_count": 43,
   "metadata": {},
   "outputs": [],
   "source": [
    "#Getting rid of the row with null value in category_list of mapping dataframe\n",
    "mapping = mapping[~mapping['category_list'].isnull()]"
   ]
  },
  {
   "cell_type": "code",
   "execution_count": 44,
   "metadata": {},
   "outputs": [
    {
     "data": {
      "text/plain": [
       "Social, Finance, Analytics, Advertising   0.0000\n",
       "Others                                    0.0000\n",
       "News, Search and Messaging                0.0000\n",
       "Manufacturing                             0.0000\n",
       "Health                                    0.0000\n",
       "Entertainment                             0.0000\n",
       "Cleantech / Semiconductors                0.0000\n",
       "Blanks                                    0.0000\n",
       "Automotive & Sports                       0.0000\n",
       "category_list                             0.0000\n",
       "dtype: float64"
      ]
     },
     "execution_count": 44,
     "metadata": {},
     "output_type": "execute_result"
    }
   ],
   "source": [
    "#Looking at null count as percentage of the number of rows in mapping dataframe.\n",
    "(round(100*mapping.isnull().sum()/len(mapping),2)).sort_values(ascending=False)"
   ]
  },
  {
   "cell_type": "code",
   "execution_count": 45,
   "metadata": {},
   "outputs": [
    {
     "data": {
      "text/html": [
       "<div>\n",
       "<style scoped>\n",
       "    .dataframe tbody tr th:only-of-type {\n",
       "        vertical-align: middle;\n",
       "    }\n",
       "\n",
       "    .dataframe tbody tr th {\n",
       "        vertical-align: top;\n",
       "    }\n",
       "\n",
       "    .dataframe thead th {\n",
       "        text-align: right;\n",
       "    }\n",
       "</style>\n",
       "<table border=\"1\" class=\"dataframe\">\n",
       "  <thead>\n",
       "    <tr style=\"text-align: right;\">\n",
       "      <th></th>\n",
       "      <th>category_list</th>\n",
       "      <th>main_sector</th>\n",
       "    </tr>\n",
       "  </thead>\n",
       "  <tbody>\n",
       "    <tr>\n",
       "      <th>0</th>\n",
       "      <td>Adventure Travel</td>\n",
       "      <td>Automotive &amp; Sports</td>\n",
       "    </tr>\n",
       "    <tr>\n",
       "      <th>1</th>\n",
       "      <td>Aerospace</td>\n",
       "      <td>Automotive &amp; Sports</td>\n",
       "    </tr>\n",
       "    <tr>\n",
       "      <th>2</th>\n",
       "      <td>Auto</td>\n",
       "      <td>Automotive &amp; Sports</td>\n",
       "    </tr>\n",
       "    <tr>\n",
       "      <th>3</th>\n",
       "      <td>Automated Kiosk</td>\n",
       "      <td>Automotive &amp; Sports</td>\n",
       "    </tr>\n",
       "    <tr>\n",
       "      <th>4</th>\n",
       "      <td>Automotive</td>\n",
       "      <td>Automotive &amp; Sports</td>\n",
       "    </tr>\n",
       "    <tr>\n",
       "      <th>...</th>\n",
       "      <td>...</td>\n",
       "      <td>...</td>\n",
       "    </tr>\n",
       "    <tr>\n",
       "      <th>682</th>\n",
       "      <td>Social Recruiting</td>\n",
       "      <td>Social, Finance, Analytics, Advertising</td>\n",
       "    </tr>\n",
       "    <tr>\n",
       "      <th>683</th>\n",
       "      <td>Social Television</td>\n",
       "      <td>Social, Finance, Analytics, Advertising</td>\n",
       "    </tr>\n",
       "    <tr>\n",
       "      <th>684</th>\n",
       "      <td>Social Travel</td>\n",
       "      <td>Social, Finance, Analytics, Advertising</td>\n",
       "    </tr>\n",
       "    <tr>\n",
       "      <th>685</th>\n",
       "      <td>Stock Exchanges</td>\n",
       "      <td>Social, Finance, Analytics, Advertising</td>\n",
       "    </tr>\n",
       "    <tr>\n",
       "      <th>686</th>\n",
       "      <td>Venture Capital</td>\n",
       "      <td>Social, Finance, Analytics, Advertising</td>\n",
       "    </tr>\n",
       "  </tbody>\n",
       "</table>\n",
       "<p>687 rows × 2 columns</p>\n",
       "</div>"
      ],
      "text/plain": [
       "         category_list                              main_sector\n",
       "0     Adventure Travel                      Automotive & Sports\n",
       "1            Aerospace                      Automotive & Sports\n",
       "2                 Auto                      Automotive & Sports\n",
       "3      Automated Kiosk                      Automotive & Sports\n",
       "4           Automotive                      Automotive & Sports\n",
       "..                 ...                                      ...\n",
       "682  Social Recruiting  Social, Finance, Analytics, Advertising\n",
       "683  Social Television  Social, Finance, Analytics, Advertising\n",
       "684      Social Travel  Social, Finance, Analytics, Advertising\n",
       "685    Stock Exchanges  Social, Finance, Analytics, Advertising\n",
       "686    Venture Capital  Social, Finance, Analytics, Advertising\n",
       "\n",
       "[687 rows x 2 columns]"
      ]
     },
     "execution_count": 45,
     "metadata": {},
     "output_type": "execute_result"
    }
   ],
   "source": [
    "#Converting the mapping dataframe from wide form to long form\n",
    "mapping = pd.melt(mapping, id_vars=['category_list'],var_name='main_sector')\n",
    "mapping = mapping[mapping['value']==1]\n",
    "\n",
    "#Drop the value column\n",
    "mapping = mapping.drop('value',axis = 1)\n",
    "mapping.reset_index(inplace=True,drop=True)\n",
    "\n",
    "#The category_list mapped to each of its respective main_sector is shown in the table below\n",
    "mapping"
   ]
  },
  {
   "cell_type": "code",
   "execution_count": 46,
   "metadata": {},
   "outputs": [],
   "source": [
    "#Primary Sector fetched and added in the master_frame using the category_list column\n",
    "master_frame['primary_sector']=master_frame['category_list'].apply(lambda x: str(x)[:str(x).find('|')] if (str(x).find('|')!=-1) else x)"
   ]
  },
  {
   "cell_type": "code",
   "execution_count": 47,
   "metadata": {},
   "outputs": [
    {
     "name": "stdout",
     "output_type": "stream",
     "text": [
      "<class 'pandas.core.frame.DataFrame'>\n",
      "RangeIndex: 38803 entries, 0 to 38802\n",
      "Data columns (total 9 columns):\n",
      " #   Column                   Non-Null Count  Dtype  \n",
      "---  ------                   --------------  -----  \n",
      " 0   permalink                38803 non-null  object \n",
      " 1   name                     38803 non-null  object \n",
      " 2   status                   38803 non-null  object \n",
      " 3   country_code             38803 non-null  object \n",
      " 4   funding_round_permalink  38803 non-null  object \n",
      " 5   funding_round_type       38803 non-null  object \n",
      " 6   funded_at                38803 non-null  object \n",
      " 7   raised_amount_usd        38803 non-null  float64\n",
      " 8   primary_sector           38803 non-null  object \n",
      "dtypes: float64(1), object(8)\n",
      "memory usage: 2.7+ MB\n"
     ]
    }
   ],
   "source": [
    "#We can drop the category_list column of the master_frame\n",
    "master_frame = master_frame.drop('category_list',axis =1)\n",
    "master_frame.info()"
   ]
  },
  {
   "cell_type": "code",
   "execution_count": 48,
   "metadata": {},
   "outputs": [],
   "source": [
    "#Bringing the category_list and the primary_sector columns to lower case in both dataframes for matching\n",
    "mapping['category_list'] = mapping['category_list'].apply(lambda x : str(x).lower())\n",
    "master_frame['primary_sector'] = master_frame['primary_sector'].apply(lambda x : str(x).lower())"
   ]
  },
  {
   "cell_type": "code",
   "execution_count": 49,
   "metadata": {},
   "outputs": [
    {
     "data": {
      "text/plain": [
       "can0bis                 1\n",
       "business travelers      1\n",
       "unmanned air systems    1\n",
       "jewelry                 1\n",
       "lifestyle products      1\n",
       "                       ..\n",
       "subscription service    1\n",
       "handmade                1\n",
       "lotteries               1\n",
       "plumbers                1\n",
       "casual games            1\n",
       "Name: category_list, Length: 175, dtype: int64"
      ]
     },
     "execution_count": 49,
     "metadata": {},
     "output_type": "execute_result"
    }
   ],
   "source": [
    "#Now let's look at the category from mapping dataframe not present in master_frame\n",
    "mapping[~mapping['category_list'].isin(master_frame['primary_sector'])]['category_list'].value_counts()"
   ]
  },
  {
   "cell_type": "code",
   "execution_count": 50,
   "metadata": {},
   "outputs": [],
   "source": [
    "#We observe that there are some typo errors visible\n",
    "\n",
    "#Correcting the typo error of '0' in the category_list of mapping dataframe\n",
    "mapping['category_list'] = mapping['category_list'].apply(lambda x: x.replace('0','na'))"
   ]
  },
  {
   "cell_type": "code",
   "execution_count": 51,
   "metadata": {},
   "outputs": [
    {
     "data": {
      "text/plain": [
       "direct advertising             1\n",
       "indians                        1\n",
       "building owners                1\n",
       "postal and courier services    1\n",
       "virtual workforces             1\n",
       "                              ..\n",
       "promotional                    1\n",
       "veterinary                     1\n",
       "personal data                  1\n",
       "realtors                       1\n",
       "casual games                   1\n",
       "Name: category_list, Length: 134, dtype: int64"
      ]
     },
     "execution_count": 51,
     "metadata": {},
     "output_type": "execute_result"
    }
   ],
   "source": [
    "mapping[~mapping['category_list'].isin(master_frame['primary_sector'])]['category_list'].value_counts()\n",
    "#No typo Errors visible"
   ]
  },
  {
   "cell_type": "code",
   "execution_count": 52,
   "metadata": {},
   "outputs": [
    {
     "name": "stdout",
     "output_type": "stream",
     "text": [
      "<class 'pandas.core.frame.DataFrame'>\n",
      "Int64Index: 38788 entries, 0 to 38787\n",
      "Data columns (total 11 columns):\n",
      " #   Column                   Non-Null Count  Dtype  \n",
      "---  ------                   --------------  -----  \n",
      " 0   permalink                38788 non-null  object \n",
      " 1   name                     38788 non-null  object \n",
      " 2   status                   38788 non-null  object \n",
      " 3   country_code             38788 non-null  object \n",
      " 4   funding_round_permalink  38788 non-null  object \n",
      " 5   funding_round_type       38788 non-null  object \n",
      " 6   funded_at                38788 non-null  object \n",
      " 7   raised_amount_usd        38788 non-null  float64\n",
      " 8   primary_sector           38788 non-null  object \n",
      " 9   category_list            38788 non-null  object \n",
      " 10  main_sector              38788 non-null  object \n",
      "dtypes: float64(1), object(10)\n",
      "memory usage: 3.6+ MB\n"
     ]
    }
   ],
   "source": [
    "#Let's do an inner join to merge the 2 dataframes and map the primary sector of each company to its main_sector\n",
    "master_frame = pd.merge(master_frame,mapping,left_on='primary_sector',right_on='category_list',how='inner')\n",
    "master_frame.info()"
   ]
  },
  {
   "cell_type": "code",
   "execution_count": 53,
   "metadata": {},
   "outputs": [
    {
     "data": {
      "text/plain": [
       "main_sector               0.0000\n",
       "primary_sector            0.0000\n",
       "raised_amount_usd         0.0000\n",
       "funded_at                 0.0000\n",
       "funding_round_type        0.0000\n",
       "funding_round_permalink   0.0000\n",
       "country_code              0.0000\n",
       "status                    0.0000\n",
       "name                      0.0000\n",
       "permalink                 0.0000\n",
       "dtype: float64"
      ]
     },
     "execution_count": 53,
     "metadata": {},
     "output_type": "execute_result"
    }
   ],
   "source": [
    "#We can now drop the category_list column as it is same as primary_sector\n",
    "master_frame = master_frame.drop('category_list',axis =1)\n",
    "\n",
    "#Lets looks the percentage of null values in the columns now\n",
    "(100*(master_frame.isnull().sum()/len(master_frame))).sort_values(ascending=False)"
   ]
  },
  {
   "cell_type": "markdown",
   "metadata": {},
   "source": [
    "#### We therefore have a clean and merged master_frame with mapping of the main_sector complete"
   ]
  },
  {
   "cell_type": "markdown",
   "metadata": {},
   "source": [
    "# Checkpoint 5: Sector Analysis 2\n",
    "\n",
    "### Table 5.1\n",
    "\n",
    "(all questions below are to be answered country wise)\n",
    "\n",
    "1. Total number of Investments (count)?\n",
    "2. Total amount of investment (USD)?\n",
    "3. Top Sector name (no. of investment-wise)?\n",
    "4. Second Sector name (no. of investment-wise)?\n",
    "5. Third Sector name (no. of investment-wise)?\n",
    "6. Number of investments in top sector (3)?\n",
    "7. Number of investments in second sector (4)?\n",
    "8. Number of investments in third sector (5)?\n",
    "9. For point 3 (top sector count-wise), which company received the highest investment?\n",
    "10. For point 4 (second best sector count-wise), which company received the highest investment?"
   ]
  },
  {
   "cell_type": "code",
   "execution_count": 54,
   "metadata": {},
   "outputs": [],
   "source": [
    "#filter_out the investments in the range of 5-15 million USD\n",
    "master_frame = master_frame[((master_frame['raised_amount_usd']>=5000000) & (master_frame['raised_amount_usd']<=15000000))]"
   ]
  },
  {
   "cell_type": "code",
   "execution_count": 55,
   "metadata": {},
   "outputs": [
    {
     "name": "stdout",
     "output_type": "stream",
     "text": [
      "<class 'pandas.core.frame.DataFrame'>\n",
      "Int64Index: 13012 entries, 0 to 38781\n",
      "Data columns (total 10 columns):\n",
      " #   Column                   Non-Null Count  Dtype  \n",
      "---  ------                   --------------  -----  \n",
      " 0   permalink                13012 non-null  object \n",
      " 1   name                     13012 non-null  object \n",
      " 2   status                   13012 non-null  object \n",
      " 3   country_code             13012 non-null  object \n",
      " 4   funding_round_permalink  13012 non-null  object \n",
      " 5   funding_round_type       13012 non-null  object \n",
      " 6   funded_at                13012 non-null  object \n",
      " 7   raised_amount_usd        13012 non-null  float64\n",
      " 8   primary_sector           13012 non-null  object \n",
      " 9   main_sector              13012 non-null  object \n",
      "dtypes: float64(1), object(9)\n",
      "memory usage: 1.1+ MB\n"
     ]
    }
   ],
   "source": [
    "master_frame.info()"
   ]
  },
  {
   "cell_type": "code",
   "execution_count": 56,
   "metadata": {},
   "outputs": [
    {
     "data": {
      "text/html": [
       "<div>\n",
       "<style scoped>\n",
       "    .dataframe tbody tr th:only-of-type {\n",
       "        vertical-align: middle;\n",
       "    }\n",
       "\n",
       "    .dataframe tbody tr th {\n",
       "        vertical-align: top;\n",
       "    }\n",
       "\n",
       "    .dataframe thead th {\n",
       "        text-align: right;\n",
       "    }\n",
       "</style>\n",
       "<table border=\"1\" class=\"dataframe\">\n",
       "  <thead>\n",
       "    <tr style=\"text-align: right;\">\n",
       "      <th></th>\n",
       "      <th></th>\n",
       "      <th>count</th>\n",
       "      <th>sum</th>\n",
       "    </tr>\n",
       "    <tr>\n",
       "      <th>country_code</th>\n",
       "      <th>main_sector</th>\n",
       "      <th></th>\n",
       "      <th></th>\n",
       "    </tr>\n",
       "  </thead>\n",
       "  <tbody>\n",
       "    <tr>\n",
       "      <th rowspan=\"8\" valign=\"top\">GBR</th>\n",
       "      <th>Automotive &amp; Sports</th>\n",
       "      <td>16</td>\n",
       "      <td>167051565.0000</td>\n",
       "    </tr>\n",
       "    <tr>\n",
       "      <th>Cleantech / Semiconductors</th>\n",
       "      <td>130</td>\n",
       "      <td>1163990056.0000</td>\n",
       "    </tr>\n",
       "    <tr>\n",
       "      <th>Entertainment</th>\n",
       "      <td>56</td>\n",
       "      <td>482784687.0000</td>\n",
       "    </tr>\n",
       "    <tr>\n",
       "      <th>Health</th>\n",
       "      <td>24</td>\n",
       "      <td>214537510.0000</td>\n",
       "    </tr>\n",
       "    <tr>\n",
       "      <th>Manufacturing</th>\n",
       "      <td>42</td>\n",
       "      <td>361940335.0000</td>\n",
       "    </tr>\n",
       "    <tr>\n",
       "      <th>News, Search and Messaging</th>\n",
       "      <td>73</td>\n",
       "      <td>615746235.0000</td>\n",
       "    </tr>\n",
       "    <tr>\n",
       "      <th>Others</th>\n",
       "      <td>147</td>\n",
       "      <td>1283624289.0000</td>\n",
       "    </tr>\n",
       "    <tr>\n",
       "      <th>Social, Finance, Analytics, Advertising</th>\n",
       "      <td>133</td>\n",
       "      <td>1089404014.0000</td>\n",
       "    </tr>\n",
       "    <tr>\n",
       "      <th rowspan=\"8\" valign=\"top\">IND</th>\n",
       "      <th>Automotive &amp; Sports</th>\n",
       "      <td>13</td>\n",
       "      <td>136900000.0000</td>\n",
       "    </tr>\n",
       "    <tr>\n",
       "      <th>Cleantech / Semiconductors</th>\n",
       "      <td>20</td>\n",
       "      <td>165380000.0000</td>\n",
       "    </tr>\n",
       "    <tr>\n",
       "      <th>Entertainment</th>\n",
       "      <td>33</td>\n",
       "      <td>280830000.0000</td>\n",
       "    </tr>\n",
       "    <tr>\n",
       "      <th>Health</th>\n",
       "      <td>19</td>\n",
       "      <td>167740000.0000</td>\n",
       "    </tr>\n",
       "    <tr>\n",
       "      <th>Manufacturing</th>\n",
       "      <td>21</td>\n",
       "      <td>200900000.0000</td>\n",
       "    </tr>\n",
       "    <tr>\n",
       "      <th>News, Search and Messaging</th>\n",
       "      <td>52</td>\n",
       "      <td>433834545.0000</td>\n",
       "    </tr>\n",
       "    <tr>\n",
       "      <th>Others</th>\n",
       "      <td>110</td>\n",
       "      <td>1013409507.0000</td>\n",
       "    </tr>\n",
       "    <tr>\n",
       "      <th>Social, Finance, Analytics, Advertising</th>\n",
       "      <td>60</td>\n",
       "      <td>550549550.0000</td>\n",
       "    </tr>\n",
       "    <tr>\n",
       "      <th rowspan=\"8\" valign=\"top\">USA</th>\n",
       "      <th>Automotive &amp; Sports</th>\n",
       "      <td>167</td>\n",
       "      <td>1454104361.0000</td>\n",
       "    </tr>\n",
       "    <tr>\n",
       "      <th>Cleantech / Semiconductors</th>\n",
       "      <td>2350</td>\n",
       "      <td>21633430822.0000</td>\n",
       "    </tr>\n",
       "    <tr>\n",
       "      <th>Entertainment</th>\n",
       "      <td>591</td>\n",
       "      <td>5099197982.0000</td>\n",
       "    </tr>\n",
       "    <tr>\n",
       "      <th>Health</th>\n",
       "      <td>909</td>\n",
       "      <td>8211859357.0000</td>\n",
       "    </tr>\n",
       "    <tr>\n",
       "      <th>Manufacturing</th>\n",
       "      <td>799</td>\n",
       "      <td>7258553378.0000</td>\n",
       "    </tr>\n",
       "    <tr>\n",
       "      <th>News, Search and Messaging</th>\n",
       "      <td>1583</td>\n",
       "      <td>13971567428.0000</td>\n",
       "    </tr>\n",
       "    <tr>\n",
       "      <th>Others</th>\n",
       "      <td>2950</td>\n",
       "      <td>26321007002.0000</td>\n",
       "    </tr>\n",
       "    <tr>\n",
       "      <th>Social, Finance, Analytics, Advertising</th>\n",
       "      <td>2714</td>\n",
       "      <td>23807376964.0000</td>\n",
       "    </tr>\n",
       "  </tbody>\n",
       "</table>\n",
       "</div>"
      ],
      "text/plain": [
       "                                                      count              sum\n",
       "country_code main_sector                                                    \n",
       "GBR          Automotive & Sports                         16   167051565.0000\n",
       "             Cleantech / Semiconductors                 130  1163990056.0000\n",
       "             Entertainment                               56   482784687.0000\n",
       "             Health                                      24   214537510.0000\n",
       "             Manufacturing                               42   361940335.0000\n",
       "             News, Search and Messaging                  73   615746235.0000\n",
       "             Others                                     147  1283624289.0000\n",
       "             Social, Finance, Analytics, Advertising    133  1089404014.0000\n",
       "IND          Automotive & Sports                         13   136900000.0000\n",
       "             Cleantech / Semiconductors                  20   165380000.0000\n",
       "             Entertainment                               33   280830000.0000\n",
       "             Health                                      19   167740000.0000\n",
       "             Manufacturing                               21   200900000.0000\n",
       "             News, Search and Messaging                  52   433834545.0000\n",
       "             Others                                     110  1013409507.0000\n",
       "             Social, Finance, Analytics, Advertising     60   550549550.0000\n",
       "USA          Automotive & Sports                        167  1454104361.0000\n",
       "             Cleantech / Semiconductors                2350 21633430822.0000\n",
       "             Entertainment                              591  5099197982.0000\n",
       "             Health                                     909  8211859357.0000\n",
       "             Manufacturing                              799  7258553378.0000\n",
       "             News, Search and Messaging                1583 13971567428.0000\n",
       "             Others                                    2950 26321007002.0000\n",
       "             Social, Finance, Analytics, Advertising   2714 23807376964.0000"
      ]
     },
     "execution_count": 56,
     "metadata": {},
     "output_type": "execute_result"
    }
   ],
   "source": [
    "#Observe the country wise and main_sector wise count and sum of raise_amount_usd\n",
    "master_frame.groupby(['country_code','main_sector'])['raised_amount_usd'].agg(['count','sum'])"
   ]
  },
  {
   "cell_type": "code",
   "execution_count": 57,
   "metadata": {},
   "outputs": [],
   "source": [
    "#Obtain 3 dataframes for each of the country\n",
    "C1_USA = master_frame[master_frame['country_code']=='USA']\n",
    "C2_GBR = master_frame[master_frame['country_code']=='GBR']\n",
    "C3_IND = master_frame[master_frame['country_code']=='IND']"
   ]
  },
  {
   "cell_type": "code",
   "execution_count": 58,
   "metadata": {},
   "outputs": [],
   "source": [
    "#Adding count and sum columns to the dataframes of each country\n",
    "pd.options.mode.chained_assignment = None\n",
    "#Adding in C1_USA \n",
    "C1_USA['count'] = C1_USA['main_sector'].map(C1_USA['main_sector'].value_counts())\n",
    "C1_USA['sum']= C1_USA['main_sector'].map(C1_USA.groupby('main_sector')['raised_amount_usd'].sum())\n",
    "C1_USA.reset_index(inplace=True, drop=True)\n",
    "\n",
    "#Adding in C2_GBR \n",
    "C2_GBR['count'] = C2_GBR['main_sector'].map(C2_GBR['main_sector'].value_counts())\n",
    "C2_GBR['sum']= C2_GBR['main_sector'].map(C2_GBR.groupby('main_sector')['raised_amount_usd'].sum())\n",
    "C2_GBR.reset_index(inplace=True, drop=True)\n",
    "\n",
    "#Adding in C3_IND\n",
    "C3_IND['count'] = C3_IND['main_sector'].map(C3_IND['main_sector'].value_counts())\n",
    "C3_IND['sum']= C3_IND['main_sector'].map(C3_IND.groupby('main_sector')['raised_amount_usd'].sum())\n",
    "C3_IND.reset_index(inplace=True, drop=True)"
   ]
  },
  {
   "cell_type": "markdown",
   "metadata": {},
   "source": [
    "#### Let's look at the columns and data types of the 3 dataframes country wise below"
   ]
  },
  {
   "cell_type": "code",
   "execution_count": 59,
   "metadata": {},
   "outputs": [
    {
     "name": "stdout",
     "output_type": "stream",
     "text": [
      "<class 'pandas.core.frame.DataFrame'>\n",
      "RangeIndex: 12063 entries, 0 to 12062\n",
      "Data columns (total 12 columns):\n",
      " #   Column                   Non-Null Count  Dtype  \n",
      "---  ------                   --------------  -----  \n",
      " 0   permalink                12063 non-null  object \n",
      " 1   name                     12063 non-null  object \n",
      " 2   status                   12063 non-null  object \n",
      " 3   country_code             12063 non-null  object \n",
      " 4   funding_round_permalink  12063 non-null  object \n",
      " 5   funding_round_type       12063 non-null  object \n",
      " 6   funded_at                12063 non-null  object \n",
      " 7   raised_amount_usd        12063 non-null  float64\n",
      " 8   primary_sector           12063 non-null  object \n",
      " 9   main_sector              12063 non-null  object \n",
      " 10  count                    12063 non-null  int64  \n",
      " 11  sum                      12063 non-null  float64\n",
      "dtypes: float64(2), int64(1), object(9)\n",
      "memory usage: 1.1+ MB\n"
     ]
    }
   ],
   "source": [
    "C1_USA.info()"
   ]
  },
  {
   "cell_type": "code",
   "execution_count": 60,
   "metadata": {},
   "outputs": [
    {
     "name": "stdout",
     "output_type": "stream",
     "text": [
      "<class 'pandas.core.frame.DataFrame'>\n",
      "RangeIndex: 621 entries, 0 to 620\n",
      "Data columns (total 12 columns):\n",
      " #   Column                   Non-Null Count  Dtype  \n",
      "---  ------                   --------------  -----  \n",
      " 0   permalink                621 non-null    object \n",
      " 1   name                     621 non-null    object \n",
      " 2   status                   621 non-null    object \n",
      " 3   country_code             621 non-null    object \n",
      " 4   funding_round_permalink  621 non-null    object \n",
      " 5   funding_round_type       621 non-null    object \n",
      " 6   funded_at                621 non-null    object \n",
      " 7   raised_amount_usd        621 non-null    float64\n",
      " 8   primary_sector           621 non-null    object \n",
      " 9   main_sector              621 non-null    object \n",
      " 10  count                    621 non-null    int64  \n",
      " 11  sum                      621 non-null    float64\n",
      "dtypes: float64(2), int64(1), object(9)\n",
      "memory usage: 58.3+ KB\n"
     ]
    }
   ],
   "source": [
    "C2_GBR.info()"
   ]
  },
  {
   "cell_type": "code",
   "execution_count": 61,
   "metadata": {},
   "outputs": [
    {
     "name": "stdout",
     "output_type": "stream",
     "text": [
      "<class 'pandas.core.frame.DataFrame'>\n",
      "RangeIndex: 328 entries, 0 to 327\n",
      "Data columns (total 12 columns):\n",
      " #   Column                   Non-Null Count  Dtype  \n",
      "---  ------                   --------------  -----  \n",
      " 0   permalink                328 non-null    object \n",
      " 1   name                     328 non-null    object \n",
      " 2   status                   328 non-null    object \n",
      " 3   country_code             328 non-null    object \n",
      " 4   funding_round_permalink  328 non-null    object \n",
      " 5   funding_round_type       328 non-null    object \n",
      " 6   funded_at                328 non-null    object \n",
      " 7   raised_amount_usd        328 non-null    float64\n",
      " 8   primary_sector           328 non-null    object \n",
      " 9   main_sector              328 non-null    object \n",
      " 10  count                    328 non-null    int64  \n",
      " 11  sum                      328 non-null    float64\n",
      "dtypes: float64(2), int64(1), object(9)\n",
      "memory usage: 30.9+ KB\n"
     ]
    }
   ],
   "source": [
    "C3_IND.info()"
   ]
  },
  {
   "cell_type": "code",
   "execution_count": 62,
   "metadata": {},
   "outputs": [
    {
     "data": {
      "text/plain": [
       "country_code\n",
       "GBR      621\n",
       "IND      328\n",
       "USA    12063\n",
       "Name: raised_amount_usd, dtype: int64"
      ]
     },
     "execution_count": 62,
     "metadata": {},
     "output_type": "execute_result"
    }
   ],
   "source": [
    "#Number of investment in each country (Table 5.1 (1))\n",
    "master_frame.groupby('country_code')['raised_amount_usd'].count()"
   ]
  },
  {
   "cell_type": "code",
   "execution_count": 63,
   "metadata": {},
   "outputs": [
    {
     "data": {
      "text/plain": [
       "country_code\n",
       "GBR     5379078691.0000\n",
       "IND     2949543602.0000\n",
       "USA   107757097294.0000\n",
       "Name: raised_amount_usd, dtype: float64"
      ]
     },
     "execution_count": 63,
     "metadata": {},
     "output_type": "execute_result"
    }
   ],
   "source": [
    "#Amount of investement in each country (Table 5.1 (2))\n",
    "master_frame.groupby('country_code')['raised_amount_usd'].sum()"
   ]
  },
  {
   "cell_type": "markdown",
   "metadata": {},
   "source": [
    "#### For Table 5.1 (4-8) let's look at the following 3 results"
   ]
  },
  {
   "cell_type": "code",
   "execution_count": 64,
   "metadata": {},
   "outputs": [
    {
     "data": {
      "text/html": [
       "<div>\n",
       "<style scoped>\n",
       "    .dataframe tbody tr th:only-of-type {\n",
       "        vertical-align: middle;\n",
       "    }\n",
       "\n",
       "    .dataframe tbody tr th {\n",
       "        vertical-align: top;\n",
       "    }\n",
       "\n",
       "    .dataframe thead th {\n",
       "        text-align: right;\n",
       "    }\n",
       "</style>\n",
       "<table border=\"1\" class=\"dataframe\">\n",
       "  <thead>\n",
       "    <tr style=\"text-align: right;\">\n",
       "      <th></th>\n",
       "      <th>count</th>\n",
       "      <th>sum</th>\n",
       "    </tr>\n",
       "    <tr>\n",
       "      <th>main_sector</th>\n",
       "      <th></th>\n",
       "      <th></th>\n",
       "    </tr>\n",
       "  </thead>\n",
       "  <tbody>\n",
       "    <tr>\n",
       "      <th>Others</th>\n",
       "      <td>2950</td>\n",
       "      <td>26321007002.0000</td>\n",
       "    </tr>\n",
       "    <tr>\n",
       "      <th>Social, Finance, Analytics, Advertising</th>\n",
       "      <td>2714</td>\n",
       "      <td>23807376964.0000</td>\n",
       "    </tr>\n",
       "    <tr>\n",
       "      <th>Cleantech / Semiconductors</th>\n",
       "      <td>2350</td>\n",
       "      <td>21633430822.0000</td>\n",
       "    </tr>\n",
       "    <tr>\n",
       "      <th>News, Search and Messaging</th>\n",
       "      <td>1583</td>\n",
       "      <td>13971567428.0000</td>\n",
       "    </tr>\n",
       "    <tr>\n",
       "      <th>Health</th>\n",
       "      <td>909</td>\n",
       "      <td>8211859357.0000</td>\n",
       "    </tr>\n",
       "    <tr>\n",
       "      <th>Manufacturing</th>\n",
       "      <td>799</td>\n",
       "      <td>7258553378.0000</td>\n",
       "    </tr>\n",
       "    <tr>\n",
       "      <th>Entertainment</th>\n",
       "      <td>591</td>\n",
       "      <td>5099197982.0000</td>\n",
       "    </tr>\n",
       "    <tr>\n",
       "      <th>Automotive &amp; Sports</th>\n",
       "      <td>167</td>\n",
       "      <td>1454104361.0000</td>\n",
       "    </tr>\n",
       "  </tbody>\n",
       "</table>\n",
       "</div>"
      ],
      "text/plain": [
       "                                         count              sum\n",
       "main_sector                                                    \n",
       "Others                                    2950 26321007002.0000\n",
       "Social, Finance, Analytics, Advertising   2714 23807376964.0000\n",
       "Cleantech / Semiconductors                2350 21633430822.0000\n",
       "News, Search and Messaging                1583 13971567428.0000\n",
       "Health                                     909  8211859357.0000\n",
       "Manufacturing                              799  7258553378.0000\n",
       "Entertainment                              591  5099197982.0000\n",
       "Automotive & Sports                        167  1454104361.0000"
      ]
     },
     "execution_count": 64,
     "metadata": {},
     "output_type": "execute_result"
    }
   ],
   "source": [
    "#Observe the main_sector wise count and sum of raise_amount_usd for USA in descending order count(no.) of investments\n",
    "C1_USA.groupby('main_sector')['raised_amount_usd'].agg(['count','sum']).sort_values('count',ascending=False)"
   ]
  },
  {
   "cell_type": "code",
   "execution_count": 65,
   "metadata": {
    "scrolled": false
   },
   "outputs": [
    {
     "data": {
      "text/html": [
       "<div>\n",
       "<style scoped>\n",
       "    .dataframe tbody tr th:only-of-type {\n",
       "        vertical-align: middle;\n",
       "    }\n",
       "\n",
       "    .dataframe tbody tr th {\n",
       "        vertical-align: top;\n",
       "    }\n",
       "\n",
       "    .dataframe thead th {\n",
       "        text-align: right;\n",
       "    }\n",
       "</style>\n",
       "<table border=\"1\" class=\"dataframe\">\n",
       "  <thead>\n",
       "    <tr style=\"text-align: right;\">\n",
       "      <th></th>\n",
       "      <th>count</th>\n",
       "      <th>sum</th>\n",
       "    </tr>\n",
       "    <tr>\n",
       "      <th>main_sector</th>\n",
       "      <th></th>\n",
       "      <th></th>\n",
       "    </tr>\n",
       "  </thead>\n",
       "  <tbody>\n",
       "    <tr>\n",
       "      <th>Others</th>\n",
       "      <td>147</td>\n",
       "      <td>1283624289.0000</td>\n",
       "    </tr>\n",
       "    <tr>\n",
       "      <th>Social, Finance, Analytics, Advertising</th>\n",
       "      <td>133</td>\n",
       "      <td>1089404014.0000</td>\n",
       "    </tr>\n",
       "    <tr>\n",
       "      <th>Cleantech / Semiconductors</th>\n",
       "      <td>130</td>\n",
       "      <td>1163990056.0000</td>\n",
       "    </tr>\n",
       "    <tr>\n",
       "      <th>News, Search and Messaging</th>\n",
       "      <td>73</td>\n",
       "      <td>615746235.0000</td>\n",
       "    </tr>\n",
       "    <tr>\n",
       "      <th>Entertainment</th>\n",
       "      <td>56</td>\n",
       "      <td>482784687.0000</td>\n",
       "    </tr>\n",
       "    <tr>\n",
       "      <th>Manufacturing</th>\n",
       "      <td>42</td>\n",
       "      <td>361940335.0000</td>\n",
       "    </tr>\n",
       "    <tr>\n",
       "      <th>Health</th>\n",
       "      <td>24</td>\n",
       "      <td>214537510.0000</td>\n",
       "    </tr>\n",
       "    <tr>\n",
       "      <th>Automotive &amp; Sports</th>\n",
       "      <td>16</td>\n",
       "      <td>167051565.0000</td>\n",
       "    </tr>\n",
       "  </tbody>\n",
       "</table>\n",
       "</div>"
      ],
      "text/plain": [
       "                                         count             sum\n",
       "main_sector                                                   \n",
       "Others                                     147 1283624289.0000\n",
       "Social, Finance, Analytics, Advertising    133 1089404014.0000\n",
       "Cleantech / Semiconductors                 130 1163990056.0000\n",
       "News, Search and Messaging                  73  615746235.0000\n",
       "Entertainment                               56  482784687.0000\n",
       "Manufacturing                               42  361940335.0000\n",
       "Health                                      24  214537510.0000\n",
       "Automotive & Sports                         16  167051565.0000"
      ]
     },
     "execution_count": 65,
     "metadata": {},
     "output_type": "execute_result"
    }
   ],
   "source": [
    "#Observe the main_sector wise count and sum of raise_amount_usd for GBR in descending order count(no.) of investments\n",
    "C2_GBR.groupby('main_sector')['raised_amount_usd'].agg(['count','sum']).sort_values('count',ascending=False)"
   ]
  },
  {
   "cell_type": "code",
   "execution_count": 66,
   "metadata": {},
   "outputs": [
    {
     "data": {
      "text/html": [
       "<div>\n",
       "<style scoped>\n",
       "    .dataframe tbody tr th:only-of-type {\n",
       "        vertical-align: middle;\n",
       "    }\n",
       "\n",
       "    .dataframe tbody tr th {\n",
       "        vertical-align: top;\n",
       "    }\n",
       "\n",
       "    .dataframe thead th {\n",
       "        text-align: right;\n",
       "    }\n",
       "</style>\n",
       "<table border=\"1\" class=\"dataframe\">\n",
       "  <thead>\n",
       "    <tr style=\"text-align: right;\">\n",
       "      <th></th>\n",
       "      <th>count</th>\n",
       "      <th>sum</th>\n",
       "    </tr>\n",
       "    <tr>\n",
       "      <th>main_sector</th>\n",
       "      <th></th>\n",
       "      <th></th>\n",
       "    </tr>\n",
       "  </thead>\n",
       "  <tbody>\n",
       "    <tr>\n",
       "      <th>Others</th>\n",
       "      <td>110</td>\n",
       "      <td>1013409507.0000</td>\n",
       "    </tr>\n",
       "    <tr>\n",
       "      <th>Social, Finance, Analytics, Advertising</th>\n",
       "      <td>60</td>\n",
       "      <td>550549550.0000</td>\n",
       "    </tr>\n",
       "    <tr>\n",
       "      <th>News, Search and Messaging</th>\n",
       "      <td>52</td>\n",
       "      <td>433834545.0000</td>\n",
       "    </tr>\n",
       "    <tr>\n",
       "      <th>Entertainment</th>\n",
       "      <td>33</td>\n",
       "      <td>280830000.0000</td>\n",
       "    </tr>\n",
       "    <tr>\n",
       "      <th>Manufacturing</th>\n",
       "      <td>21</td>\n",
       "      <td>200900000.0000</td>\n",
       "    </tr>\n",
       "    <tr>\n",
       "      <th>Cleantech / Semiconductors</th>\n",
       "      <td>20</td>\n",
       "      <td>165380000.0000</td>\n",
       "    </tr>\n",
       "    <tr>\n",
       "      <th>Health</th>\n",
       "      <td>19</td>\n",
       "      <td>167740000.0000</td>\n",
       "    </tr>\n",
       "    <tr>\n",
       "      <th>Automotive &amp; Sports</th>\n",
       "      <td>13</td>\n",
       "      <td>136900000.0000</td>\n",
       "    </tr>\n",
       "  </tbody>\n",
       "</table>\n",
       "</div>"
      ],
      "text/plain": [
       "                                         count             sum\n",
       "main_sector                                                   \n",
       "Others                                     110 1013409507.0000\n",
       "Social, Finance, Analytics, Advertising     60  550549550.0000\n",
       "News, Search and Messaging                  52  433834545.0000\n",
       "Entertainment                               33  280830000.0000\n",
       "Manufacturing                               21  200900000.0000\n",
       "Cleantech / Semiconductors                  20  165380000.0000\n",
       "Health                                      19  167740000.0000\n",
       "Automotive & Sports                         13  136900000.0000"
      ]
     },
     "execution_count": 66,
     "metadata": {},
     "output_type": "execute_result"
    }
   ],
   "source": [
    "#Observe the main_sector wise count and sum of raise_amount_usd for IND in descending order count(no.) of investments\n",
    "C3_IND.groupby('main_sector')['raised_amount_usd'].agg(['count','sum']).sort_values('count',ascending=False)"
   ]
  },
  {
   "cell_type": "markdown",
   "metadata": {},
   "source": [
    "#### For Table 5.1 (9-10) let's look at the following outputs for each dataframe obtained countrywise"
   ]
  },
  {
   "cell_type": "code",
   "execution_count": 67,
   "metadata": {},
   "outputs": [
    {
     "data": {
      "text/html": [
       "<div>\n",
       "<style scoped>\n",
       "    .dataframe tbody tr th:only-of-type {\n",
       "        vertical-align: middle;\n",
       "    }\n",
       "\n",
       "    .dataframe tbody tr th {\n",
       "        vertical-align: top;\n",
       "    }\n",
       "\n",
       "    .dataframe thead th {\n",
       "        text-align: right;\n",
       "    }\n",
       "</style>\n",
       "<table border=\"1\" class=\"dataframe\">\n",
       "  <thead>\n",
       "    <tr style=\"text-align: right;\">\n",
       "      <th></th>\n",
       "      <th>name</th>\n",
       "      <th>raised_amount_usd</th>\n",
       "    </tr>\n",
       "  </thead>\n",
       "  <tbody>\n",
       "    <tr>\n",
       "      <th>1877</th>\n",
       "      <td>Virtustream</td>\n",
       "      <td>64300000.0000</td>\n",
       "    </tr>\n",
       "    <tr>\n",
       "      <th>313</th>\n",
       "      <td>Capella Photonics</td>\n",
       "      <td>54968051.0000</td>\n",
       "    </tr>\n",
       "    <tr>\n",
       "      <th>57</th>\n",
       "      <td>AirTight Networks</td>\n",
       "      <td>54201907.0000</td>\n",
       "    </tr>\n",
       "    <tr>\n",
       "      <th>1988</th>\n",
       "      <td>deCarta</td>\n",
       "      <td>52100000.0000</td>\n",
       "    </tr>\n",
       "    <tr>\n",
       "      <th>221</th>\n",
       "      <td>Black Duck Software</td>\n",
       "      <td>51000000.0000</td>\n",
       "    </tr>\n",
       "  </tbody>\n",
       "</table>\n",
       "</div>"
      ],
      "text/plain": [
       "                     name  raised_amount_usd\n",
       "1877          Virtustream      64300000.0000\n",
       "313     Capella Photonics      54968051.0000\n",
       "57      AirTight Networks      54201907.0000\n",
       "1988              deCarta      52100000.0000\n",
       "221   Black Duck Software      51000000.0000"
      ]
     },
     "execution_count": 67,
     "metadata": {},
     "output_type": "execute_result"
    }
   ],
   "source": [
    "#For C1_USA (for top sector count-wise=> Others)\n",
    "df = C1_USA[C1_USA['main_sector']=='Others'].groupby(['name'], as_index=False)['raised_amount_usd'].sum()\n",
    "df.sort_values(by='raised_amount_usd',ascending=False).head()"
   ]
  },
  {
   "cell_type": "code",
   "execution_count": 68,
   "metadata": {},
   "outputs": [
    {
     "data": {
      "text/html": [
       "<div>\n",
       "<style scoped>\n",
       "    .dataframe tbody tr th:only-of-type {\n",
       "        vertical-align: middle;\n",
       "    }\n",
       "\n",
       "    .dataframe tbody tr th {\n",
       "        vertical-align: top;\n",
       "    }\n",
       "\n",
       "    .dataframe thead th {\n",
       "        text-align: right;\n",
       "    }\n",
       "</style>\n",
       "<table border=\"1\" class=\"dataframe\">\n",
       "  <thead>\n",
       "    <tr style=\"text-align: right;\">\n",
       "      <th></th>\n",
       "      <th>name</th>\n",
       "      <th>raised_amount_usd</th>\n",
       "    </tr>\n",
       "  </thead>\n",
       "  <tbody>\n",
       "    <tr>\n",
       "      <th>1321</th>\n",
       "      <td>SST Inc. (Formerly ShotSpotter)</td>\n",
       "      <td>67933006.0000</td>\n",
       "    </tr>\n",
       "    <tr>\n",
       "      <th>452</th>\n",
       "      <td>Demandbase</td>\n",
       "      <td>63000000.0000</td>\n",
       "    </tr>\n",
       "    <tr>\n",
       "      <th>754</th>\n",
       "      <td>Intacct</td>\n",
       "      <td>61800000.0000</td>\n",
       "    </tr>\n",
       "    <tr>\n",
       "      <th>1028</th>\n",
       "      <td>NetBase Solutions</td>\n",
       "      <td>60600000.0000</td>\n",
       "    </tr>\n",
       "    <tr>\n",
       "      <th>890</th>\n",
       "      <td>Lotame</td>\n",
       "      <td>59700000.0000</td>\n",
       "    </tr>\n",
       "  </tbody>\n",
       "</table>\n",
       "</div>"
      ],
      "text/plain": [
       "                                 name  raised_amount_usd\n",
       "1321  SST Inc. (Formerly ShotSpotter)      67933006.0000\n",
       "452                        Demandbase      63000000.0000\n",
       "754                           Intacct      61800000.0000\n",
       "1028                NetBase Solutions      60600000.0000\n",
       "890                            Lotame      59700000.0000"
      ]
     },
     "execution_count": 68,
     "metadata": {},
     "output_type": "execute_result"
    }
   ],
   "source": [
    "#For C1_USA (for second best sector count-wise=> Social, Finance, Analytics, Advertising)\n",
    "df = C1_USA[C1_USA['main_sector']=='Social, Finance, Analytics, Advertising'].groupby(['name'], as_index=False)['raised_amount_usd'].sum()\n",
    "df.sort_values(by='raised_amount_usd',ascending=False).head()"
   ]
  },
  {
   "cell_type": "code",
   "execution_count": 69,
   "metadata": {},
   "outputs": [
    {
     "data": {
      "text/html": [
       "<div>\n",
       "<style scoped>\n",
       "    .dataframe tbody tr th:only-of-type {\n",
       "        vertical-align: middle;\n",
       "    }\n",
       "\n",
       "    .dataframe tbody tr th {\n",
       "        vertical-align: top;\n",
       "    }\n",
       "\n",
       "    .dataframe thead th {\n",
       "        text-align: right;\n",
       "    }\n",
       "</style>\n",
       "<table border=\"1\" class=\"dataframe\">\n",
       "  <thead>\n",
       "    <tr style=\"text-align: right;\">\n",
       "      <th></th>\n",
       "      <th>name</th>\n",
       "      <th>raised_amount_usd</th>\n",
       "    </tr>\n",
       "  </thead>\n",
       "  <tbody>\n",
       "    <tr>\n",
       "      <th>31</th>\n",
       "      <td>Electric Cloud</td>\n",
       "      <td>37000000.0000</td>\n",
       "    </tr>\n",
       "    <tr>\n",
       "      <th>83</th>\n",
       "      <td>SenSage</td>\n",
       "      <td>36250000.0000</td>\n",
       "    </tr>\n",
       "    <tr>\n",
       "      <th>32</th>\n",
       "      <td>Enigmatec</td>\n",
       "      <td>32500000.0000</td>\n",
       "    </tr>\n",
       "    <tr>\n",
       "      <th>84</th>\n",
       "      <td>SilverRail Technologies</td>\n",
       "      <td>29000000.0000</td>\n",
       "    </tr>\n",
       "    <tr>\n",
       "      <th>66</th>\n",
       "      <td>OpenCloud</td>\n",
       "      <td>27972766.0000</td>\n",
       "    </tr>\n",
       "  </tbody>\n",
       "</table>\n",
       "</div>"
      ],
      "text/plain": [
       "                       name  raised_amount_usd\n",
       "31           Electric Cloud      37000000.0000\n",
       "83                  SenSage      36250000.0000\n",
       "32                Enigmatec      32500000.0000\n",
       "84  SilverRail Technologies      29000000.0000\n",
       "66                OpenCloud      27972766.0000"
      ]
     },
     "execution_count": 69,
     "metadata": {},
     "output_type": "execute_result"
    }
   ],
   "source": [
    "#For C2_GBR (for top sector count-wise=> Others)\n",
    "df=C2_GBR[C2_GBR['main_sector']=='Others'].groupby(['name'], as_index=False)['raised_amount_usd'].sum()\n",
    "df.sort_values(by='raised_amount_usd',ascending=False).head()"
   ]
  },
  {
   "cell_type": "code",
   "execution_count": 70,
   "metadata": {},
   "outputs": [
    {
     "data": {
      "text/html": [
       "<div>\n",
       "<style scoped>\n",
       "    .dataframe tbody tr th:only-of-type {\n",
       "        vertical-align: middle;\n",
       "    }\n",
       "\n",
       "    .dataframe tbody tr th {\n",
       "        vertical-align: top;\n",
       "    }\n",
       "\n",
       "    .dataframe thead th {\n",
       "        text-align: right;\n",
       "    }\n",
       "</style>\n",
       "<table border=\"1\" class=\"dataframe\">\n",
       "  <thead>\n",
       "    <tr style=\"text-align: right;\">\n",
       "      <th></th>\n",
       "      <th>name</th>\n",
       "      <th>raised_amount_usd</th>\n",
       "    </tr>\n",
       "  </thead>\n",
       "  <tbody>\n",
       "    <tr>\n",
       "      <th>18</th>\n",
       "      <td>Celltick Technologies</td>\n",
       "      <td>37500000.0000</td>\n",
       "    </tr>\n",
       "    <tr>\n",
       "      <th>101</th>\n",
       "      <td>myThings</td>\n",
       "      <td>34000000.0000</td>\n",
       "    </tr>\n",
       "    <tr>\n",
       "      <th>94</th>\n",
       "      <td>Zopa</td>\n",
       "      <td>32900000.0000</td>\n",
       "    </tr>\n",
       "    <tr>\n",
       "      <th>88</th>\n",
       "      <td>VisualDNA</td>\n",
       "      <td>28550000.0000</td>\n",
       "    </tr>\n",
       "    <tr>\n",
       "      <th>44</th>\n",
       "      <td>MarketInvoice</td>\n",
       "      <td>25553007.0000</td>\n",
       "    </tr>\n",
       "  </tbody>\n",
       "</table>\n",
       "</div>"
      ],
      "text/plain": [
       "                      name  raised_amount_usd\n",
       "18   Celltick Technologies      37500000.0000\n",
       "101               myThings      34000000.0000\n",
       "94                    Zopa      32900000.0000\n",
       "88               VisualDNA      28550000.0000\n",
       "44           MarketInvoice      25553007.0000"
      ]
     },
     "execution_count": 70,
     "metadata": {},
     "output_type": "execute_result"
    }
   ],
   "source": [
    "#For C2_GBR (for second best sector count-wise=> Social, Finance, Analytics, Advertising)\n",
    "df = C2_GBR[C2_GBR['main_sector']=='Social, Finance, Analytics, Advertising'].groupby(['name'], as_index=False)['raised_amount_usd'].sum()\n",
    "df.sort_values(by='raised_amount_usd',ascending=False).head()"
   ]
  },
  {
   "cell_type": "code",
   "execution_count": 71,
   "metadata": {},
   "outputs": [
    {
     "data": {
      "text/html": [
       "<div>\n",
       "<style scoped>\n",
       "    .dataframe tbody tr th:only-of-type {\n",
       "        vertical-align: middle;\n",
       "    }\n",
       "\n",
       "    .dataframe tbody tr th {\n",
       "        vertical-align: top;\n",
       "    }\n",
       "\n",
       "    .dataframe thead th {\n",
       "        text-align: right;\n",
       "    }\n",
       "</style>\n",
       "<table border=\"1\" class=\"dataframe\">\n",
       "  <thead>\n",
       "    <tr style=\"text-align: right;\">\n",
       "      <th></th>\n",
       "      <th>name</th>\n",
       "      <th>raised_amount_usd</th>\n",
       "    </tr>\n",
       "  </thead>\n",
       "  <tbody>\n",
       "    <tr>\n",
       "      <th>25</th>\n",
       "      <td>FirstCry.com</td>\n",
       "      <td>39000000.0000</td>\n",
       "    </tr>\n",
       "    <tr>\n",
       "      <th>43</th>\n",
       "      <td>Myntra</td>\n",
       "      <td>38000000.0000</td>\n",
       "    </tr>\n",
       "    <tr>\n",
       "      <th>15</th>\n",
       "      <td>CommonFloor</td>\n",
       "      <td>32900000.0000</td>\n",
       "    </tr>\n",
       "    <tr>\n",
       "      <th>54</th>\n",
       "      <td>Pepperfry.com</td>\n",
       "      <td>28000000.0000</td>\n",
       "    </tr>\n",
       "    <tr>\n",
       "      <th>35</th>\n",
       "      <td>ItzCash Card Ltd.</td>\n",
       "      <td>25000000.0000</td>\n",
       "    </tr>\n",
       "  </tbody>\n",
       "</table>\n",
       "</div>"
      ],
      "text/plain": [
       "                 name  raised_amount_usd\n",
       "25       FirstCry.com      39000000.0000\n",
       "43             Myntra      38000000.0000\n",
       "15        CommonFloor      32900000.0000\n",
       "54      Pepperfry.com      28000000.0000\n",
       "35  ItzCash Card Ltd.      25000000.0000"
      ]
     },
     "execution_count": 71,
     "metadata": {},
     "output_type": "execute_result"
    }
   ],
   "source": [
    "#For C3_IND (for top sector count-wise=> Others)\n",
    "df = C3_IND[C3_IND['main_sector']=='Others'].groupby(['name'], as_index=False)['raised_amount_usd'].sum()\n",
    "df.sort_values(by='raised_amount_usd',ascending=False).head()"
   ]
  },
  {
   "cell_type": "code",
   "execution_count": 72,
   "metadata": {},
   "outputs": [
    {
     "data": {
      "text/html": [
       "<div>\n",
       "<style scoped>\n",
       "    .dataframe tbody tr th:only-of-type {\n",
       "        vertical-align: middle;\n",
       "    }\n",
       "\n",
       "    .dataframe tbody tr th {\n",
       "        vertical-align: top;\n",
       "    }\n",
       "\n",
       "    .dataframe thead th {\n",
       "        text-align: right;\n",
       "    }\n",
       "</style>\n",
       "<table border=\"1\" class=\"dataframe\">\n",
       "  <thead>\n",
       "    <tr style=\"text-align: right;\">\n",
       "      <th></th>\n",
       "      <th>name</th>\n",
       "      <th>raised_amount_usd</th>\n",
       "    </tr>\n",
       "  </thead>\n",
       "  <tbody>\n",
       "    <tr>\n",
       "      <th>28</th>\n",
       "      <td>Manthan Systems</td>\n",
       "      <td>50700000.0000</td>\n",
       "    </tr>\n",
       "    <tr>\n",
       "      <th>25</th>\n",
       "      <td>Komli Media</td>\n",
       "      <td>28000000.0000</td>\n",
       "    </tr>\n",
       "    <tr>\n",
       "      <th>38</th>\n",
       "      <td>ShopClues.com</td>\n",
       "      <td>25000000.0000</td>\n",
       "    </tr>\n",
       "    <tr>\n",
       "      <th>46</th>\n",
       "      <td>inTarvo</td>\n",
       "      <td>21900000.0000</td>\n",
       "    </tr>\n",
       "    <tr>\n",
       "      <th>21</th>\n",
       "      <td>Grameen Financial Services</td>\n",
       "      <td>21556050.0000</td>\n",
       "    </tr>\n",
       "  </tbody>\n",
       "</table>\n",
       "</div>"
      ],
      "text/plain": [
       "                          name  raised_amount_usd\n",
       "28             Manthan Systems      50700000.0000\n",
       "25                 Komli Media      28000000.0000\n",
       "38               ShopClues.com      25000000.0000\n",
       "46                     inTarvo      21900000.0000\n",
       "21  Grameen Financial Services      21556050.0000"
      ]
     },
     "execution_count": 72,
     "metadata": {},
     "output_type": "execute_result"
    }
   ],
   "source": [
    "#For C3_IND (for second best sector count-wise=> Social, Finance, Analytics, Advertising)\n",
    "df = C3_IND[C3_IND['main_sector']=='Social, Finance, Analytics, Advertising'].groupby(['name'], as_index=False)['raised_amount_usd'].sum()\n",
    "df.sort_values(by='raised_amount_usd',ascending=False).head()"
   ]
  },
  {
   "cell_type": "markdown",
   "metadata": {},
   "source": [
    "# Checkpoint 6 \n",
    "\n",
    "1. A plot showing the fraction of total investments (globally) in angel, venture, seed, and private equity, and the average amount of investment in each funding type. This chart should make it clear that a certain funding type (FT) is best suited for Spark Funds\n",
    "\n",
    "2. A plot showing the top 9 countries against the total amount of investments of funding type FT. This should make the top 3 countries (Country 1, Country 2, and Country 3) very clear.\n",
    "\n",
    "3. A plot showing the number of investments in the top 3 sectors of the top 3 countries on one chart (for the chosen investment type FT). \n"
   ]
  },
  {
   "cell_type": "code",
   "execution_count": 73,
   "metadata": {},
   "outputs": [
    {
     "data": {
      "text/html": [
       "<div>\n",
       "<style scoped>\n",
       "    .dataframe tbody tr th:only-of-type {\n",
       "        vertical-align: middle;\n",
       "    }\n",
       "\n",
       "    .dataframe tbody tr th {\n",
       "        vertical-align: top;\n",
       "    }\n",
       "\n",
       "    .dataframe thead th {\n",
       "        text-align: right;\n",
       "    }\n",
       "</style>\n",
       "<table border=\"1\" class=\"dataframe\">\n",
       "  <thead>\n",
       "    <tr style=\"text-align: right;\">\n",
       "      <th></th>\n",
       "      <th>median</th>\n",
       "      <th>raised_amount_fraction</th>\n",
       "    </tr>\n",
       "    <tr>\n",
       "      <th>funding_round_type</th>\n",
       "      <th></th>\n",
       "      <th></th>\n",
       "    </tr>\n",
       "  </thead>\n",
       "  <tbody>\n",
       "    <tr>\n",
       "      <th>angel</th>\n",
       "      <td>414906.0000</td>\n",
       "      <td>0.5978</td>\n",
       "    </tr>\n",
       "    <tr>\n",
       "      <th>private_equity</th>\n",
       "      <td>20000000.0000</td>\n",
       "      <td>18.8170</td>\n",
       "    </tr>\n",
       "    <tr>\n",
       "      <th>seed</th>\n",
       "      <td>300000.0000</td>\n",
       "      <td>2.2058</td>\n",
       "    </tr>\n",
       "    <tr>\n",
       "      <th>venture</th>\n",
       "      <td>5000000.0000</td>\n",
       "      <td>78.3794</td>\n",
       "    </tr>\n",
       "  </tbody>\n",
       "</table>\n",
       "</div>"
      ],
      "text/plain": [
       "                          median  raised_amount_fraction\n",
       "funding_round_type                                      \n",
       "angel                414906.0000                  0.5978\n",
       "private_equity     20000000.0000                 18.8170\n",
       "seed                 300000.0000                  2.2058\n",
       "venture             5000000.0000                 78.3794"
      ]
     },
     "execution_count": 73,
     "metadata": {},
     "output_type": "execute_result"
    }
   ],
   "source": [
    "#Let's look at the raised_amount as fraction of total investment (globally) in (%) and the median (average) values\n",
    "df = funding_type_frame.groupby('funding_round_type',as_index=False)['raised_amount_usd'].agg(['sum','median'])\n",
    "total = df['sum'].sum()\n",
    "df['raised_amount_fraction'] = df['sum'].apply(lambda x:100*(x/total))\n",
    "df = df.drop('sum',axis = 1)\n",
    "df"
   ]
  },
  {
   "cell_type": "markdown",
   "metadata": {},
   "source": [
    "### Plotting the total raised amount in each funding type as a fraction of the total investments (globally)"
   ]
  },
  {
   "cell_type": "code",
   "execution_count": 74,
   "metadata": {},
   "outputs": [
    {
     "data": {
      "image/png": "[encoded data removed]",
      "text/plain": [
       "<Figure size 432x288 with 1 Axes>"
      ]
     },
     "metadata": {
      "needs_background": "light"
     },
     "output_type": "display_data"
    }
   ],
   "source": [
    "sns.barplot(x=df.index,y='raised_amount_fraction',data =df)\n",
    "plt.ylabel('raised_amount_fraction (in %)')\n",
    "plt.show()"
   ]
  },
  {
   "cell_type": "markdown",
   "metadata": {},
   "source": [
    "### Plotting the median value of investment in each funding_round_type"
   ]
  },
  {
   "cell_type": "code",
   "execution_count": 75,
   "metadata": {},
   "outputs": [
    {
     "data": {
      "image/png": "[encoded data removed]",
      "text/plain": [
       "<Figure size 432x288 with 1 Axes>"
      ]
     },
     "metadata": {
      "needs_background": "light"
     },
     "output_type": "display_data"
    }
   ],
   "source": [
    "sns.barplot(x=df.index,y='median',data =df)\n",
    "plt.show()"
   ]
  },
  {
   "cell_type": "markdown",
   "metadata": {},
   "source": [
    "### Plotting based on the total raised_amount_usd in top 9 countries \n",
    "### (for venture type funding)"
   ]
  },
  {
   "cell_type": "code",
   "execution_count": 76,
   "metadata": {},
   "outputs": [
    {
     "data": {
      "image/png": "[encoded data removed]",
      "text/plain": [
       "<Figure size 432x288 with 1 Axes>"
      ]
     },
     "metadata": {
      "needs_background": "light"
     },
     "output_type": "display_data"
    }
   ],
   "source": [
    "sns.barplot(x='country_code',y='raised_amount_usd',data =top9)\n",
    "plt.show()"
   ]
  },
  {
   "cell_type": "markdown",
   "metadata": {},
   "source": [
    "### Plotting the number of investments made in each sector for top 3 countries \n",
    "### (for venture type funding)"
   ]
  },
  {
   "cell_type": "code",
   "execution_count": 77,
   "metadata": {},
   "outputs": [
    {
     "data": {
      "image/png": "[encoded data removed]",
      "text/plain": [
       "<Figure size 1080x576 with 1 Axes>"
      ]
     },
     "metadata": {
      "needs_background": "light"
     },
     "output_type": "display_data"
    }
   ],
   "source": [
    "plt.figure(figsize=([15,8]))\n",
    "p = sns.countplot(x='main_sector',hue='country_code',data = master_frame)\n",
    "p.set_xticklabels(p.get_xticklabels(),rotation=30)\n",
    "plt.show()"
   ]
  },
  {
   "cell_type": "markdown",
   "metadata": {},
   "source": [
    "### Plotting the above graph with the number of investments made by top 3 countries in various sectors \n",
    "### (for venture type funding)\n",
    "(the below representation enhaces the interpretations in comparison to the graph above)"
   ]
  },
  {
   "cell_type": "code",
   "execution_count": 78,
   "metadata": {},
   "outputs": [
    {
     "data": {
      "image/png": "[encoded data removed]",
      "text/plain": [
       "<Figure size 720x576 with 1 Axes>"
      ]
     },
     "metadata": {
      "needs_background": "light"
     },
     "output_type": "display_data"
    }
   ],
   "source": [
    "df = master_frame.groupby(['country_code','main_sector'],as_index = False)['raised_amount_usd'].agg('count').sort_values('raised_amount_usd',ascending=False)\n",
    "df.rename(columns={'raised_amount_usd':'number_of_investment'},inplace = True)\n",
    "\n",
    "plt.figure(figsize=([10,8]))\n",
    "p = sns.barplot(x='country_code',y = 'number_of_investment',hue='main_sector',data = df)\n",
    "plt.show()"
   ]
  },
  {
   "cell_type": "code",
   "execution_count": null,
   "metadata": {},
   "outputs": [],
   "source": []
  }
 ],
 "metadata": {
  "kernelspec": {
   "display_name": "Python 3",
   "language": "python",
   "name": "python3"
  },
  "language_info": {
   "codemirror_mode": {
    "name": "ipython",
    "version": 3
   },
   "file_extension": ".py",
   "mimetype": "text/x-python",
   "name": "python",
   "nbconvert_exporter": "python",
   "pygments_lexer": "ipython3",
   "version": "3.8.3"
  }
 },
 "nbformat": 4,
 "nbformat_minor": 4
}
